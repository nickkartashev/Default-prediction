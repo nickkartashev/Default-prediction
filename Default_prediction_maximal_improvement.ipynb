{
  "nbformat": 4,
  "nbformat_minor": 0,
  "metadata": {
    "colab": {
      "name": "Default_prediction_maximal_improvement.ipynb",
      "provenance": [],
      "collapsed_sections": []
    },
    "kernelspec": {
      "name": "python3",
      "display_name": "Python 3"
    },
    "language_info": {
      "name": "python"
    }
  },
  "cells": [
    {
      "cell_type": "code",
      "metadata": {
        "id": "Ch3GEtEFbkbA"
      },
      "source": [
        "import pandas as pd\n",
        "import numpy as np\n",
        "import matplotlib.pyplot as plt\n",
        "import torch\n",
        "import torch.nn as nn\n",
        "import torch.optim as optim"
      ],
      "execution_count": 1,
      "outputs": []
    },
    {
      "cell_type": "code",
      "metadata": {
        "id": "cWjsozXAbzK0"
      },
      "source": [
        "df = pd.read_csv('hmeq.csv')"
      ],
      "execution_count": 2,
      "outputs": []
    },
    {
      "cell_type": "code",
      "metadata": {
        "colab": {
          "base_uri": "https://localhost:8080/",
          "height": 419
        },
        "id": "mgiwJ3vqc5zz",
        "outputId": "56c43c8c-07c6-4763-c903-bd4ff3089df1"
      },
      "source": [
        "df"
      ],
      "execution_count": 3,
      "outputs": [
        {
          "output_type": "execute_result",
          "data": {
            "text/html": [
              "<div>\n",
              "<style scoped>\n",
              "    .dataframe tbody tr th:only-of-type {\n",
              "        vertical-align: middle;\n",
              "    }\n",
              "\n",
              "    .dataframe tbody tr th {\n",
              "        vertical-align: top;\n",
              "    }\n",
              "\n",
              "    .dataframe thead th {\n",
              "        text-align: right;\n",
              "    }\n",
              "</style>\n",
              "<table border=\"1\" class=\"dataframe\">\n",
              "  <thead>\n",
              "    <tr style=\"text-align: right;\">\n",
              "      <th></th>\n",
              "      <th>BAD</th>\n",
              "      <th>LOAN</th>\n",
              "      <th>MORTDUE</th>\n",
              "      <th>VALUE</th>\n",
              "      <th>REASON</th>\n",
              "      <th>JOB</th>\n",
              "      <th>YOJ</th>\n",
              "      <th>DEROG</th>\n",
              "      <th>DELINQ</th>\n",
              "      <th>CLAGE</th>\n",
              "      <th>NINQ</th>\n",
              "      <th>CLNO</th>\n",
              "      <th>DEBTINC</th>\n",
              "    </tr>\n",
              "  </thead>\n",
              "  <tbody>\n",
              "    <tr>\n",
              "      <th>0</th>\n",
              "      <td>1</td>\n",
              "      <td>1100</td>\n",
              "      <td>25860.0</td>\n",
              "      <td>39025.0</td>\n",
              "      <td>HomeImp</td>\n",
              "      <td>Other</td>\n",
              "      <td>10.5</td>\n",
              "      <td>0.0</td>\n",
              "      <td>0.0</td>\n",
              "      <td>94.366667</td>\n",
              "      <td>1.0</td>\n",
              "      <td>9.0</td>\n",
              "      <td>NaN</td>\n",
              "    </tr>\n",
              "    <tr>\n",
              "      <th>1</th>\n",
              "      <td>1</td>\n",
              "      <td>1300</td>\n",
              "      <td>70053.0</td>\n",
              "      <td>68400.0</td>\n",
              "      <td>HomeImp</td>\n",
              "      <td>Other</td>\n",
              "      <td>7.0</td>\n",
              "      <td>0.0</td>\n",
              "      <td>2.0</td>\n",
              "      <td>121.833333</td>\n",
              "      <td>0.0</td>\n",
              "      <td>14.0</td>\n",
              "      <td>NaN</td>\n",
              "    </tr>\n",
              "    <tr>\n",
              "      <th>2</th>\n",
              "      <td>1</td>\n",
              "      <td>1500</td>\n",
              "      <td>13500.0</td>\n",
              "      <td>16700.0</td>\n",
              "      <td>HomeImp</td>\n",
              "      <td>Other</td>\n",
              "      <td>4.0</td>\n",
              "      <td>0.0</td>\n",
              "      <td>0.0</td>\n",
              "      <td>149.466667</td>\n",
              "      <td>1.0</td>\n",
              "      <td>10.0</td>\n",
              "      <td>NaN</td>\n",
              "    </tr>\n",
              "    <tr>\n",
              "      <th>3</th>\n",
              "      <td>1</td>\n",
              "      <td>1500</td>\n",
              "      <td>NaN</td>\n",
              "      <td>NaN</td>\n",
              "      <td>NaN</td>\n",
              "      <td>NaN</td>\n",
              "      <td>NaN</td>\n",
              "      <td>NaN</td>\n",
              "      <td>NaN</td>\n",
              "      <td>NaN</td>\n",
              "      <td>NaN</td>\n",
              "      <td>NaN</td>\n",
              "      <td>NaN</td>\n",
              "    </tr>\n",
              "    <tr>\n",
              "      <th>4</th>\n",
              "      <td>0</td>\n",
              "      <td>1700</td>\n",
              "      <td>97800.0</td>\n",
              "      <td>112000.0</td>\n",
              "      <td>HomeImp</td>\n",
              "      <td>Office</td>\n",
              "      <td>3.0</td>\n",
              "      <td>0.0</td>\n",
              "      <td>0.0</td>\n",
              "      <td>93.333333</td>\n",
              "      <td>0.0</td>\n",
              "      <td>14.0</td>\n",
              "      <td>NaN</td>\n",
              "    </tr>\n",
              "    <tr>\n",
              "      <th>...</th>\n",
              "      <td>...</td>\n",
              "      <td>...</td>\n",
              "      <td>...</td>\n",
              "      <td>...</td>\n",
              "      <td>...</td>\n",
              "      <td>...</td>\n",
              "      <td>...</td>\n",
              "      <td>...</td>\n",
              "      <td>...</td>\n",
              "      <td>...</td>\n",
              "      <td>...</td>\n",
              "      <td>...</td>\n",
              "      <td>...</td>\n",
              "    </tr>\n",
              "    <tr>\n",
              "      <th>5955</th>\n",
              "      <td>0</td>\n",
              "      <td>88900</td>\n",
              "      <td>57264.0</td>\n",
              "      <td>90185.0</td>\n",
              "      <td>DebtCon</td>\n",
              "      <td>Other</td>\n",
              "      <td>16.0</td>\n",
              "      <td>0.0</td>\n",
              "      <td>0.0</td>\n",
              "      <td>221.808718</td>\n",
              "      <td>0.0</td>\n",
              "      <td>16.0</td>\n",
              "      <td>36.112347</td>\n",
              "    </tr>\n",
              "    <tr>\n",
              "      <th>5956</th>\n",
              "      <td>0</td>\n",
              "      <td>89000</td>\n",
              "      <td>54576.0</td>\n",
              "      <td>92937.0</td>\n",
              "      <td>DebtCon</td>\n",
              "      <td>Other</td>\n",
              "      <td>16.0</td>\n",
              "      <td>0.0</td>\n",
              "      <td>0.0</td>\n",
              "      <td>208.692070</td>\n",
              "      <td>0.0</td>\n",
              "      <td>15.0</td>\n",
              "      <td>35.859971</td>\n",
              "    </tr>\n",
              "    <tr>\n",
              "      <th>5957</th>\n",
              "      <td>0</td>\n",
              "      <td>89200</td>\n",
              "      <td>54045.0</td>\n",
              "      <td>92924.0</td>\n",
              "      <td>DebtCon</td>\n",
              "      <td>Other</td>\n",
              "      <td>15.0</td>\n",
              "      <td>0.0</td>\n",
              "      <td>0.0</td>\n",
              "      <td>212.279697</td>\n",
              "      <td>0.0</td>\n",
              "      <td>15.0</td>\n",
              "      <td>35.556590</td>\n",
              "    </tr>\n",
              "    <tr>\n",
              "      <th>5958</th>\n",
              "      <td>0</td>\n",
              "      <td>89800</td>\n",
              "      <td>50370.0</td>\n",
              "      <td>91861.0</td>\n",
              "      <td>DebtCon</td>\n",
              "      <td>Other</td>\n",
              "      <td>14.0</td>\n",
              "      <td>0.0</td>\n",
              "      <td>0.0</td>\n",
              "      <td>213.892709</td>\n",
              "      <td>0.0</td>\n",
              "      <td>16.0</td>\n",
              "      <td>34.340882</td>\n",
              "    </tr>\n",
              "    <tr>\n",
              "      <th>5959</th>\n",
              "      <td>0</td>\n",
              "      <td>89900</td>\n",
              "      <td>48811.0</td>\n",
              "      <td>88934.0</td>\n",
              "      <td>DebtCon</td>\n",
              "      <td>Other</td>\n",
              "      <td>15.0</td>\n",
              "      <td>0.0</td>\n",
              "      <td>0.0</td>\n",
              "      <td>219.601002</td>\n",
              "      <td>0.0</td>\n",
              "      <td>16.0</td>\n",
              "      <td>34.571519</td>\n",
              "    </tr>\n",
              "  </tbody>\n",
              "</table>\n",
              "<p>5960 rows × 13 columns</p>\n",
              "</div>"
            ],
            "text/plain": [
              "      BAD   LOAN  MORTDUE     VALUE  ...       CLAGE NINQ  CLNO    DEBTINC\n",
              "0       1   1100  25860.0   39025.0  ...   94.366667  1.0   9.0        NaN\n",
              "1       1   1300  70053.0   68400.0  ...  121.833333  0.0  14.0        NaN\n",
              "2       1   1500  13500.0   16700.0  ...  149.466667  1.0  10.0        NaN\n",
              "3       1   1500      NaN       NaN  ...         NaN  NaN   NaN        NaN\n",
              "4       0   1700  97800.0  112000.0  ...   93.333333  0.0  14.0        NaN\n",
              "...   ...    ...      ...       ...  ...         ...  ...   ...        ...\n",
              "5955    0  88900  57264.0   90185.0  ...  221.808718  0.0  16.0  36.112347\n",
              "5956    0  89000  54576.0   92937.0  ...  208.692070  0.0  15.0  35.859971\n",
              "5957    0  89200  54045.0   92924.0  ...  212.279697  0.0  15.0  35.556590\n",
              "5958    0  89800  50370.0   91861.0  ...  213.892709  0.0  16.0  34.340882\n",
              "5959    0  89900  48811.0   88934.0  ...  219.601002  0.0  16.0  34.571519\n",
              "\n",
              "[5960 rows x 13 columns]"
            ]
          },
          "metadata": {
            "tags": []
          },
          "execution_count": 3
        }
      ]
    },
    {
      "cell_type": "markdown",
      "metadata": {
        "id": "-j_EX72XMDfw"
      },
      "source": [
        "Для начала давайте рассмотрим длю пропусков в каждой колонке:"
      ]
    },
    {
      "cell_type": "code",
      "metadata": {
        "colab": {
          "base_uri": "https://localhost:8080/"
        },
        "id": "WnmIt_48MHYp",
        "outputId": "72d64602-523f-4bc3-ca41-8bcc745bd1fe"
      },
      "source": [
        "df.isna().mean(axis=0)"
      ],
      "execution_count": 44,
      "outputs": [
        {
          "output_type": "execute_result",
          "data": {
            "text/plain": [
              "BAD        0.000000\n",
              "LOAN       0.000000\n",
              "MORTDUE    0.086913\n",
              "VALUE      0.018792\n",
              "REASON     0.042282\n",
              "JOB        0.046812\n",
              "YOJ        0.086409\n",
              "DEROG      0.118792\n",
              "DELINQ     0.097315\n",
              "CLAGE      0.051678\n",
              "NINQ       0.085570\n",
              "CLNO       0.037248\n",
              "DEBTINC    0.212584\n",
              "dtype: float64"
            ]
          },
          "metadata": {
            "tags": []
          },
          "execution_count": 44
        }
      ]
    },
    {
      "cell_type": "markdown",
      "metadata": {
        "id": "bTLniV-lHTrW"
      },
      "source": [
        "При рассмотрении этих данных стоит учитывать тот факт, что все эти заявки - кредиты, уже одобренные прошлым алгоритмом. Из-за этого отличия в данных говорят скорее не об особенностях клиентов, а о предвзятостях существующей модели."
      ]
    },
    {
      "cell_type": "code",
      "metadata": {
        "id": "FxifWiuJ2aLK",
        "colab": {
          "base_uri": "https://localhost:8080/",
          "height": 458
        },
        "outputId": "58d387e7-f403-4e6f-e5c1-f6f92a95b6ee"
      },
      "source": [
        "plt.figure(figsize=(10, 7))\n",
        "plt.hist(df['LOAN'][df['BAD'] == 0], bins=100, alpha=0.5, label='good', density=True)\n",
        "plt.hist(df['LOAN'][df['BAD'] == 1], bins=100, alpha=0.5, label='bad', density=True)\n",
        "plt.legend()\n",
        "plt.xlabel('Размер запрашиваемого займа')\n",
        "plt.title('Распределение размера займа для неудачных и удачных кредитов')\n",
        "plt.show()"
      ],
      "execution_count": 36,
      "outputs": [
        {
          "output_type": "display_data",
          "data": {
            "image/png": "[encoded data removed]",
            "text/plain": [
              "<Figure size 720x504 with 1 Axes>"
            ]
          },
          "metadata": {
            "tags": [],
            "needs_background": "light"
          }
        }
      ]
    },
    {
      "cell_type": "code",
      "metadata": {
        "colab": {
          "base_uri": "https://localhost:8080/",
          "height": 458
        },
        "id": "6URjgYsKB5_7",
        "outputId": "afa7b815-bc24-4d99-fcd1-9f4674b5ab4f"
      },
      "source": [
        "plt.figure(figsize=(10, 7))\n",
        "\n",
        "plt.hist(df['MORTDUE'][df['BAD'] == 0], bins=100, alpha=0.5, label='good', density=True)\n",
        "plt.hist(df['MORTDUE'][df['BAD'] == 1], bins=100, alpha=0.5, label='bad', density=True)\n",
        "plt.legend()\n",
        "plt.xlabel('Размер остатка по ипотеке')\n",
        "plt.title('Распределение остатка по ипотеке для неудачных и удачных кредитов')\n",
        "\n",
        "plt.show()"
      ],
      "execution_count": 38,
      "outputs": [
        {
          "output_type": "display_data",
          "data": {
            "image/png": "[encoded data removed]",
            "text/plain": [
              "<Figure size 720x504 with 1 Axes>"
            ]
          },
          "metadata": {
            "tags": [],
            "needs_background": "light"
          }
        }
      ]
    },
    {
      "cell_type": "code",
      "metadata": {
        "colab": {
          "base_uri": "https://localhost:8080/",
          "height": 459
        },
        "id": "5XQG6WWmCPAr",
        "outputId": "61e420cc-71fe-42f8-9b9c-f6c544ba33db"
      },
      "source": [
        "plt.figure(figsize=(10, 7))\n",
        "\n",
        "plt.hist(df['VALUE'][df['BAD'] == 0], bins=100, alpha=0.5, label='good', density=True)\n",
        "plt.hist(df['VALUE'][df['BAD'] == 1], bins=100, alpha=0.5, label='bad', density=True)\n",
        "plt.legend()\n",
        "plt.xlabel('Суммарная стоимость собственности')\n",
        "plt.title('Распределение суммарной стоимости собственности для неудачных и удачных кредитов')\n",
        "\n",
        "plt.show()"
      ],
      "execution_count": 39,
      "outputs": [
        {
          "output_type": "display_data",
          "data": {
            "image/png": "[encoded data removed]",
            "text/plain": [
              "<Figure size 720x504 with 1 Axes>"
            ]
          },
          "metadata": {
            "tags": [],
            "needs_background": "light"
          }
        }
      ]
    },
    {
      "cell_type": "code",
      "metadata": {
        "colab": {
          "base_uri": "https://localhost:8080/",
          "height": 442
        },
        "id": "YAfmVvTHC7KE",
        "outputId": "b5c0b9c6-d75f-46d2-e71e-f4eeb1145913"
      },
      "source": [
        "plt.figure(figsize=(10, 7))\n",
        "plt.bar(x=['DebtCon', 'HomeImp'], height=(df.groupby('REASON').mean()['BAD']))\n",
        "plt.ylabel('Доля банкротств')\n",
        "plt.xlabel('Повод для займа')\n",
        "plt.show()"
      ],
      "execution_count": 32,
      "outputs": [
        {
          "output_type": "display_data",
          "data": {
            "image/png": "[encoded data removed]",
            "text/plain": [
              "<Figure size 720x504 with 1 Axes>"
            ]
          },
          "metadata": {
            "tags": [],
            "needs_background": "light"
          }
        }
      ]
    },
    {
      "cell_type": "markdown",
      "metadata": {
        "id": "DRI2VFwfIsqH"
      },
      "source": [
        "Интуитивно понятно, что реструктуризация долгов - потенциально более рискованная инвестиция, чем покупка для улучшения дома. Возможно прошлые данные овер-компенсировали этот риск, поэтому в нашем датасете реструктуризация статистически надежнее."
      ]
    },
    {
      "cell_type": "code",
      "metadata": {
        "colab": {
          "base_uri": "https://localhost:8080/",
          "height": 442
        },
        "id": "QpSFZscACp0-",
        "outputId": "a14f54b1-76ff-43ae-9acc-6ed8dba9d4e3"
      },
      "source": [
        "plt.figure(figsize=(10, 7))\n",
        "plt.bar(x=(df.groupby('JOB').mean()['BAD']).index, height=(df.groupby('JOB').mean()['BAD']))\n",
        "plt.ylabel('Доля банкротств')\n",
        "plt.xlabel('Место работы')\n",
        "\n",
        "plt.show()"
      ],
      "execution_count": 41,
      "outputs": [
        {
          "output_type": "display_data",
          "data": {
            "image/png": "[encoded data removed]",
            "text/plain": [
              "<Figure size 720x504 with 1 Axes>"
            ]
          },
          "metadata": {
            "tags": [],
            "needs_background": "light"
          }
        }
      ]
    },
    {
      "cell_type": "markdown",
      "metadata": {
        "id": "YFwxUi6jLya7"
      },
      "source": [
        "Давайте оценим важность признаков с помощью t-статистики, чтобы выделить наиболее значимые для нашей классификации"
      ]
    },
    {
      "cell_type": "code",
      "metadata": {
        "id": "U9_JtmVJ1xmp"
      },
      "source": [
        "dfpos = df[df['BAD'] == 0].drop(['BAD', 'JOB', 'REASON'] , axis=1)\n",
        "dfneg = df[df['BAD'] == 1].drop(['BAD', 'JOB', 'REASON'] , axis=1)\n",
        "t = np.abs(dfpos.mean(axis=0) - dfneg.mean(axis=0)) / np.sqrt((len(dfpos) * dfpos.std(axis=0)**2 + len(dfneg) * dfneg.std(axis=0)**2)/ (len(dfpos) + len(dfneg)))\n"
      ],
      "execution_count": 42,
      "outputs": []
    },
    {
      "cell_type": "code",
      "metadata": {
        "colab": {
          "base_uri": "https://localhost:8080/"
        },
        "id": "cUA1PrdVLZX-",
        "outputId": "aa43d27e-165a-4f4c-ae75-f9b03472d0b9"
      },
      "source": [
        "t"
      ],
      "execution_count": 43,
      "outputs": [
        {
          "output_type": "execute_result",
          "data": {
            "text/plain": [
              "LOAN       0.188425\n",
              "MORTDUE    0.120885\n",
              "VALUE      0.076650\n",
              "YOJ        0.148999\n",
              "DEROG      0.715846\n",
              "DELINQ     0.944193\n",
              "CLAGE      0.435324\n",
              "NINQ       0.441615\n",
              "CLNO       0.010427\n",
              "DEBTINC    0.609487\n",
              "dtype: float64"
            ]
          },
          "metadata": {
            "tags": []
          },
          "execution_count": 43
        }
      ]
    },
    {
      "cell_type": "markdown",
      "metadata": {
        "id": "mAvJr9aBMpRP"
      },
      "source": [
        "'DEROG', 'DELINQ' - обобщая, эти признаки говорят нам об уже просроченных кредитах. Понятно, почему эти признаки очень важны."
      ]
    },
    {
      "cell_type": "markdown",
      "metadata": {
        "id": "ljENQE3iNav0"
      },
      "source": [
        "'DEBTINC' - отношение долга к доходу"
      ]
    },
    {
      "cell_type": "code",
      "metadata": {
        "colab": {
          "base_uri": "https://localhost:8080/",
          "height": 442
        },
        "id": "656Q893MNjDe",
        "outputId": "1ed3a153-2f10-417c-9431-16920de31808"
      },
      "source": [
        "plt.figure(figsize=(10, 7))\n",
        "\n",
        "plt.hist(df['DELINQ'][df['BAD'] == 0], bins=5, alpha=0.5, label='good', density=True)\n",
        "plt.hist(df['DELINQ'][df['BAD'] == 1], bins=15, alpha=0.5, label='bad', density=True)\n",
        "plt.legend()\n",
        "plt.xlabel('Количество просрочек по кредиту')\n",
        "\n",
        "plt.show()"
      ],
      "execution_count": 55,
      "outputs": [
        {
          "output_type": "display_data",
          "data": {
            "image/png": "[encoded data removed]",
            "text/plain": [
              "<Figure size 720x504 with 1 Axes>"
            ]
          },
          "metadata": {
            "tags": [],
            "needs_background": "light"
          }
        }
      ]
    },
    {
      "cell_type": "code",
      "metadata": {
        "colab": {
          "base_uri": "https://localhost:8080/",
          "height": 442
        },
        "id": "QlJJTzoEOG4D",
        "outputId": "2f17f55b-9280-4754-f8a8-3d6591615950"
      },
      "source": [
        "plt.figure(figsize=(10, 7))\n",
        "\n",
        "plt.hist(df['DEROG'][df['BAD'] == 0], bins=range(10), alpha=0.5, label='good', density=True)\n",
        "plt.hist(df['DEROG'][df['BAD'] == 1], bins=range(10), alpha=0.5, label='bad', density=True)\n",
        "plt.legend()\n",
        "plt.xlabel('Количество прблем по кредиту')\n",
        "\n",
        "plt.show()"
      ],
      "execution_count": 54,
      "outputs": [
        {
          "output_type": "display_data",
          "data": {
            "image/png": "[encoded data removed]",
            "text/plain": [
              "<Figure size 720x504 with 1 Axes>"
            ]
          },
          "metadata": {
            "tags": [],
            "needs_background": "light"
          }
        }
      ]
    },
    {
      "cell_type": "code",
      "metadata": {
        "colab": {
          "base_uri": "https://localhost:8080/"
        },
        "id": "I9hFIbnwb1pD",
        "outputId": "08b518a2-35f0-42b1-db99-7077c98265cb"
      },
      "source": [
        "df['REASON'].value_counts()"
      ],
      "execution_count": 56,
      "outputs": [
        {
          "output_type": "execute_result",
          "data": {
            "text/plain": [
              "DebtCon    3928\n",
              "HomeImp    1780\n",
              "Name: REASON, dtype: int64"
            ]
          },
          "metadata": {
            "tags": []
          },
          "execution_count": 56
        }
      ]
    },
    {
      "cell_type": "code",
      "metadata": {
        "colab": {
          "base_uri": "https://localhost:8080/"
        },
        "id": "7uo80n8Kc7Aq",
        "outputId": "f404c6a0-fe8a-4a3b-a48f-d591e82c87e8"
      },
      "source": [
        "df['JOB'].value_counts()"
      ],
      "execution_count": 57,
      "outputs": [
        {
          "output_type": "execute_result",
          "data": {
            "text/plain": [
              "Other      2388\n",
              "ProfExe    1276\n",
              "Office      948\n",
              "Mgr         767\n",
              "Self        193\n",
              "Sales       109\n",
              "Name: JOB, dtype: int64"
            ]
          },
          "metadata": {
            "tags": []
          },
          "execution_count": 57
        }
      ]
    },
    {
      "cell_type": "code",
      "metadata": {
        "colab": {
          "base_uri": "https://localhost:8080/"
        },
        "id": "6CF1kuqeehth",
        "outputId": "f60b287e-d856-4927-d037-42aff11e355e"
      },
      "source": [
        "df.isna().sum()"
      ],
      "execution_count": 58,
      "outputs": [
        {
          "output_type": "execute_result",
          "data": {
            "text/plain": [
              "BAD           0\n",
              "LOAN          0\n",
              "MORTDUE     518\n",
              "VALUE       112\n",
              "REASON      252\n",
              "JOB         279\n",
              "YOJ         515\n",
              "DEROG       708\n",
              "DELINQ      580\n",
              "CLAGE       308\n",
              "NINQ        510\n",
              "CLNO        222\n",
              "DEBTINC    1267\n",
              "dtype: int64"
            ]
          },
          "metadata": {
            "tags": []
          },
          "execution_count": 58
        }
      ]
    },
    {
      "cell_type": "markdown",
      "metadata": {
        "id": "PFOOjivbO8Vn"
      },
      "source": [
        "Давайте для начала заполним пропуски в категориальных переменных отдельным значением, в числовых - средним, а переменную с наибольшим количеством пропусков пока удалим."
      ]
    },
    {
      "cell_type": "code",
      "metadata": {
        "id": "o4CbR9JjPoZE"
      },
      "source": [
        "import copy"
      ],
      "execution_count": 60,
      "outputs": []
    },
    {
      "cell_type": "code",
      "metadata": {
        "id": "8Bljy5aAc_1U"
      },
      "source": [
        "df_pure = copy.deepcopy(df).drop('DEBTINC', axis=1)"
      ],
      "execution_count": 75,
      "outputs": []
    },
    {
      "cell_type": "code",
      "metadata": {
        "id": "Vfp0AJ8feoqP"
      },
      "source": [
        "df_pure[['JOB', 'REASON']] = df_pure[['JOB', 'REASON']].fillna('NAN')"
      ],
      "execution_count": 76,
      "outputs": []
    },
    {
      "cell_type": "code",
      "metadata": {
        "id": "heN-tW9ne2Hb"
      },
      "source": [
        "df_pure = df_pure.fillna(df_pure.mean(axis=0))"
      ],
      "execution_count": 78,
      "outputs": []
    },
    {
      "cell_type": "code",
      "metadata": {
        "id": "HSG3YjoRfQj7"
      },
      "source": [
        "y = df_pure['BAD'].values\n",
        "X = df_pure.drop(\"BAD\", axis=1).values"
      ],
      "execution_count": 79,
      "outputs": []
    },
    {
      "cell_type": "code",
      "metadata": {
        "id": "V2awBAbndeBm"
      },
      "source": [
        "from sklearn.model_selection import train_test_split"
      ],
      "execution_count": 80,
      "outputs": []
    },
    {
      "cell_type": "code",
      "metadata": {
        "id": "Paohti6jdPib"
      },
      "source": [
        ""
      ],
      "execution_count": 80,
      "outputs": []
    },
    {
      "cell_type": "code",
      "metadata": {
        "id": "y-YmXiPQfmeK"
      },
      "source": [
        "from sklearn.ensemble import RandomForestClassifier"
      ],
      "execution_count": 81,
      "outputs": []
    },
    {
      "cell_type": "code",
      "metadata": {
        "id": "tve8XUCEgLQg"
      },
      "source": [
        "from sklearn.preprocessing import OneHotEncoder"
      ],
      "execution_count": 82,
      "outputs": []
    },
    {
      "cell_type": "code",
      "metadata": {
        "id": "5VgoNnc6gNQ_"
      },
      "source": [
        ""
      ],
      "execution_count": 82,
      "outputs": []
    },
    {
      "cell_type": "markdown",
      "metadata": {
        "id": "Ehf9-zwuQKLa"
      },
      "source": [
        "Закодируем категориальные переменные"
      ]
    },
    {
      "cell_type": "code",
      "metadata": {
        "id": "DncrNIsqgRHx"
      },
      "source": [
        "X = np.concatenate((X[:, :3], OneHotEncoder(sparse=False).fit_transform(X[:, [3, 4]]), X[:, 5:]), axis=1)"
      ],
      "execution_count": 83,
      "outputs": []
    },
    {
      "cell_type": "code",
      "metadata": {
        "id": "02hzycSigOYh"
      },
      "source": [
        "X_train, X_test, y_train, y_test = train_test_split(X, y, test_size=0.3, random_state=179)\n"
      ],
      "execution_count": 84,
      "outputs": []
    },
    {
      "cell_type": "code",
      "metadata": {
        "id": "-6jN4rDFisJC"
      },
      "source": [
        "isnatrain, isnatest = train_test_split(df.isna().mean(axis=1), test_size=0.3, random_state=179)"
      ],
      "execution_count": 85,
      "outputs": []
    },
    {
      "cell_type": "code",
      "metadata": {
        "id": "HYGwrZjvfqGU"
      },
      "source": [
        "mod = RandomForestClassifier(n_estimators=5000).fit(X_train, y_train)"
      ],
      "execution_count": 86,
      "outputs": []
    },
    {
      "cell_type": "code",
      "metadata": {
        "colab": {
          "base_uri": "https://localhost:8080/"
        },
        "id": "lrihr5REhMAL",
        "outputId": "f9ea5cec-d77a-4b85-dc64-a7618b1cb275"
      },
      "source": [
        "print(mod.score(X_test, y_test))"
      ],
      "execution_count": 87,
      "outputs": [
        {
          "output_type": "stream",
          "text": [
            "0.9345637583892618\n"
          ],
          "name": "stdout"
        }
      ]
    },
    {
      "cell_type": "code",
      "metadata": {
        "id": "L5FR4hkMRtbP"
      },
      "source": [
        "y_pred = mod.predict(X_test)"
      ],
      "execution_count": 97,
      "outputs": []
    },
    {
      "cell_type": "code",
      "metadata": {
        "colab": {
          "base_uri": "https://localhost:8080/"
        },
        "id": "bcDSGIKuR2TG",
        "outputId": "7bd604a1-c907-47ac-92a2-065c399f0dcb"
      },
      "source": [
        "print(f\"Positive train targets: {(y_train == 1).sum()}, negative train targets: {(y_train == 0).sum()}, ratio: {(y_train == 1).sum() / (y_train == 0).sum()}\")\n",
        "print(f\"Positive test targets: {(y_test == 1).sum()}, negative test targets: {(y_test == 0).sum()}, ratio: {(y_test == 1).sum() / (y_test == 0).sum()}\")\n",
        "print(f\"Positive predictions: {(y_pred == 1).sum()}, negative predictions: {(y_pred == 0).sum()}, ratio: {(y_pred == 1).sum() / (y_pred == 0).sum()}\")"
      ],
      "execution_count": 106,
      "outputs": [
        {
          "output_type": "stream",
          "text": [
            "Positive train targets: 825, negative train targets: 3347, ratio: 0.2464893934867045\n",
            "Positive test targets: 364, negative test targets: 1424, ratio: 0.2556179775280899\n",
            "Positive predictions: 255, negative predictions: 1533, ratio: 0.16634050880626222\n"
          ],
          "name": "stdout"
        }
      ]
    },
    {
      "cell_type": "markdown",
      "metadata": {
        "id": "U5MI1KeqQSsE"
      },
      "source": [
        "Accuracy - не самая удачная метрика, хотя баланс классов всего 4:1"
      ]
    },
    {
      "cell_type": "code",
      "metadata": {
        "id": "UiNAvfT54Gr0"
      },
      "source": [
        "from sklearn.metrics import accuracy_score\n",
        "def kappa(y0, y1, pos=1, neg=0):\n",
        "    po = accuracy_score(y0, y1)\n",
        "\n",
        "    pos0 = (y0 == pos).mean()\n",
        "    pos1 = (y1 == pos).mean()\n",
        "    pe = (pos0 * pos1) + (1 - pos0) * (1 - pos1)\n",
        "\n",
        "    k = (po - pe) / (1 - pe)\n",
        "    return k"
      ],
      "execution_count": 94,
      "outputs": []
    },
    {
      "cell_type": "code",
      "metadata": {
        "id": "m52fF005Q8cI"
      },
      "source": [
        "def matthews(pred, target, pos=1, neg=0):\n",
        "    tp = np.sum((pred == pos) & (target == pos))\n",
        "    tn = np.sum((pred == neg) & (target == neg))\n",
        "    fp = np.sum((pred == pos) & (target == neg))\n",
        "    fn = np.sum((pred == neg) & (target == pos))\n",
        "\n",
        "    if (tp + fp) * (tp + fn) * (tn + fp) * (tn + fn) == 0:\n",
        "        return 0 # условность, чтобы не вылезало так много nan\n",
        "\n",
        "    return (tp * tn - fp * fn) / np.sqrt((tp + fp) * (tp + fn) * (tn + fp) * (tn + fn))"
      ],
      "execution_count": 90,
      "outputs": []
    },
    {
      "cell_type": "code",
      "metadata": {
        "id": "OW652m9ISzyU"
      },
      "source": [
        "from sklearn.metrics import roc_auc_score\n",
        "from sklearn.metrics import precision_recall_curve\n",
        "from sklearn.metrics import auc\n",
        "from sklearn.metrics import precision_score\n",
        "from sklearn.metrics import recall_score"
      ],
      "execution_count": 128,
      "outputs": []
    },
    {
      "cell_type": "code",
      "metadata": {
        "id": "CkI_sTCGS-4r"
      },
      "source": [
        ""
      ],
      "execution_count": 121,
      "outputs": []
    },
    {
      "cell_type": "code",
      "metadata": {
        "id": "7l8Qm5qi4LRv",
        "colab": {
          "base_uri": "https://localhost:8080/"
        },
        "outputId": "bf6cdae4-8534-43ac-d151-9b3007ae445c"
      },
      "source": [
        "print(f\"Kappa value: {kappa(y_pred, y_test)}\")\n",
        "print(f\"Matthews Correlation Coefficient: {matthews(y_pred, y_test)}\")\n",
        "print(f\"ROC-AUC value: {roc_auc_score(y_test, mod.predict_proba(X_test)[:, 1])}\")\n",
        "print(f\"PR-AUC value: {auc(*reversed((precision_recall_curve(y_test, mod.predict_proba(X_test)[:, 1]))[:2]))}\")\n"
      ],
      "execution_count": 123,
      "outputs": [
        {
          "output_type": "stream",
          "text": [
            "Kappa value: 0.7728924844647672\n",
            "Matthews correlation coefficient: 0.7907953453805613\n",
            "ROC-AUC value: 0.9853830333991851\n",
            "PR-AUC value: 0.9609472028991017\n"
          ],
          "name": "stdout"
        }
      ]
    },
    {
      "cell_type": "code",
      "metadata": {
        "colab": {
          "base_uri": "https://localhost:8080/"
        },
        "id": "SDXtilXkUNfm",
        "outputId": "bf0d682a-0fd3-4713-d9d9-427ae52ea0c1"
      },
      "source": [
        "print(f\"Precision value: {precision_score(y_test, y_pred)}\")\n",
        "print(f\"Recall value: {recall_score(y_test, y_pred)}\")"
      ],
      "execution_count": 130,
      "outputs": [
        {
          "output_type": "stream",
          "text": [
            "Precision value: 0.984313725490196\n",
            "Recall value: 0.6895604395604396\n"
          ],
          "name": "stdout"
        }
      ]
    },
    {
      "cell_type": "markdown",
      "metadata": {
        "id": "-yiacL0GU86f"
      },
      "source": [
        "Было бы логично предположить, что невозврат денег для нас несет больше урона, чем бы нам принесло успешное возвращение. Это говорит нам о том, что порог выдачи кредита стоит выставить ниже чем 0.5 вероятности дефолта"
      ]
    },
    {
      "cell_type": "markdown",
      "metadata": {
        "id": "o7L5w-w8VzFQ"
      },
      "source": [
        "Напишем функцию, которая максимизирует ожидание прибыли, исходя из предположения о том, что наша выгода составляет x% суммы, и если человек не возвращает сумму, он не возвращает ее целиком"
      ]
    },
    {
      "cell_type": "code",
      "metadata": {
        "id": "yMS_QobBYXrC"
      },
      "source": [
        ""
      ],
      "execution_count": 143,
      "outputs": []
    },
    {
      "cell_type": "code",
      "metadata": {
        "id": "Y1v3Kw3hWC0z"
      },
      "source": [
        "def get_prediction(mod, X_test, y_test, x=15):\n",
        "    y_prob = mod.predict_proba(X_test)[:, 1]\n",
        "    threshold = (x / 100) / (1 + x / 100)\n",
        "    y_pred = y_prob > threshold\n",
        "    return y_pred * 1.0"
      ],
      "execution_count": 136,
      "outputs": []
    },
    {
      "cell_type": "code",
      "metadata": {
        "id": "yIONlwDTRT9E"
      },
      "source": [
        "y_pred_finance = get_prediction(mod, X_test, y_test)"
      ],
      "execution_count": 140,
      "outputs": []
    },
    {
      "cell_type": "markdown",
      "metadata": {
        "id": "kgSvpqPxXzDI"
      },
      "source": [
        "Введем метрику, которая оценивает лосс как упущенную выгоду, по сравнению с идеальным предсказанием."
      ]
    },
    {
      "cell_type": "code",
      "metadata": {
        "id": "_uwKmXiwX4Oj"
      },
      "source": [
        "def get_loss(y_pred, y_target, loan, x=15):\n",
        "    return (((y_pred == 1) & (y_target == 0)) * loan * x / 100 +  ((y_pred == 0) & (y_target == 1)) * loan).sum()"
      ],
      "execution_count": 144,
      "outputs": []
    },
    {
      "cell_type": "code",
      "metadata": {
        "id": "yCe3iegS4LUZ",
        "colab": {
          "base_uri": "https://localhost:8080/"
        },
        "outputId": "0ab0333c-c803-43bc-8587-f0edeb17320f"
      },
      "source": [
        "get_loss(y_pred_finance, y_test, X_test[:, 0])"
      ],
      "execution_count": 146,
      "outputs": [
        {
          "output_type": "execute_result",
          "data": {
            "text/plain": [
              "609590.0"
            ]
          },
          "metadata": {
            "tags": []
          },
          "execution_count": 146
        }
      ]
    },
    {
      "cell_type": "code",
      "metadata": {
        "colab": {
          "base_uri": "https://localhost:8080/"
        },
        "id": "nmJtjVb7Yh_A",
        "outputId": "0954bba9-9454-40a7-93d1-f4a424aa9b52"
      },
      "source": [
        "get_loss(y_test, y_test, X_test[:, 0])"
      ],
      "execution_count": 147,
      "outputs": [
        {
          "output_type": "execute_result",
          "data": {
            "text/plain": [
              "0.0"
            ]
          },
          "metadata": {
            "tags": []
          },
          "execution_count": 147
        }
      ]
    },
    {
      "cell_type": "markdown",
      "metadata": {
        "id": "09eiz0xwYRl6"
      },
      "source": [
        "Если выдавать кредит по предсказанию модели:"
      ]
    },
    {
      "cell_type": "code",
      "metadata": {
        "colab": {
          "base_uri": "https://localhost:8080/"
        },
        "id": "W4z3JpMeYj4O",
        "outputId": "5b43d310-1922-4584-add3-e3fab89f502a"
      },
      "source": [
        "get_loss(y_pred, y_test, X_test[:, 0])"
      ],
      "execution_count": 148,
      "outputs": [
        {
          "output_type": "execute_result",
          "data": {
            "text/plain": [
              "2113645.0"
            ]
          },
          "metadata": {
            "tags": []
          },
          "execution_count": 148
        }
      ]
    },
    {
      "cell_type": "markdown",
      "metadata": {
        "id": "X7IWLrdTYtd0"
      },
      "source": [
        "Давайте проведем те же манипуляции, но с использованием SMOTE для апсемплинга минорного класса."
      ]
    },
    {
      "cell_type": "code",
      "metadata": {
        "colab": {
          "base_uri": "https://localhost:8080/"
        },
        "id": "UKLSnoeljFE6",
        "outputId": "690057f8-9820-47a1-eed3-5d2ec16b6a3e"
      },
      "source": [
        "from imblearn.over_sampling import SMOTE"
      ],
      "execution_count": 149,
      "outputs": [
        {
          "output_type": "stream",
          "text": [
            "/usr/local/lib/python3.7/dist-packages/sklearn/externals/six.py:31: FutureWarning: The module is deprecated in version 0.21 and will be removed in version 0.23 since we've dropped support for Python 2.7. Please rely on the official version of six (https://pypi.org/project/six/).\n",
            "  \"(https://pypi.org/project/six/).\", FutureWarning)\n",
            "/usr/local/lib/python3.7/dist-packages/sklearn/utils/deprecation.py:144: FutureWarning: The sklearn.neighbors.base module is  deprecated in version 0.22 and will be removed in version 0.24. The corresponding classes / functions should instead be imported from sklearn.neighbors. Anything that cannot be imported from sklearn.neighbors is now part of the private API.\n",
            "  warnings.warn(message, FutureWarning)\n"
          ],
          "name": "stderr"
        }
      ]
    },
    {
      "cell_type": "code",
      "metadata": {
        "id": "oOuDg65RZJD8"
      },
      "source": [
        "def print_metrics(mod, X_test, y_test):\n",
        "    y_pred = mod.predict(X_test)\n",
        "    print(f\"Kappa value: {kappa(y_pred, y_test)}\")\n",
        "    print(f\"Matthews Correlation Coefficient: {matthews(y_pred, y_test)}\")\n",
        "    print(f\"ROC-AUC value: {roc_auc_score(y_test, mod.predict_proba(X_test)[:, 1])}\")\n",
        "    print(f\"PR-AUC value: {auc(*reversed((precision_recall_curve(y_test, mod.predict_proba(X_test)[:, 1]))[:2]))}\")\n",
        "    print(f\"Precision value: {precision_score(y_test, y_pred)}\")\n",
        "    print(f\"Recall value: {recall_score(y_test, y_pred)}\")\n",
        "    y_pred_finance = get_prediction(mod, X_test, y_test)\n",
        "    print(f\"Loss: {get_loss(y_pred_finance, y_test, X_test[:, 0])}\")"
      ],
      "execution_count": 150,
      "outputs": []
    },
    {
      "cell_type": "code",
      "metadata": {
        "colab": {
          "base_uri": "https://localhost:8080/"
        },
        "id": "krS5dgqHjNJL",
        "outputId": "f5495864-ec0f-4c1c-b1a5-4b3f2ee27a1a"
      },
      "source": [
        "X_train_new, y_train_new = SMOTE(sampling_strategy=1/2).fit_resample(X_train, y_train)"
      ],
      "execution_count": 151,
      "outputs": [
        {
          "output_type": "stream",
          "text": [
            "/usr/local/lib/python3.7/dist-packages/sklearn/utils/deprecation.py:87: FutureWarning: Function safe_indexing is deprecated; safe_indexing is deprecated in version 0.22 and will be removed in version 0.24.\n",
            "  warnings.warn(msg, category=FutureWarning)\n"
          ],
          "name": "stderr"
        }
      ]
    },
    {
      "cell_type": "code",
      "metadata": {
        "id": "J-AmJY9HjYsO"
      },
      "source": [
        "mod2 = RandomForestClassifier(n_estimators=5000).fit(X_train_new, y_train_new)"
      ],
      "execution_count": 152,
      "outputs": []
    },
    {
      "cell_type": "code",
      "metadata": {
        "colab": {
          "base_uri": "https://localhost:8080/"
        },
        "id": "bd1zdvEvjcl4",
        "outputId": "907ad2ed-152d-4261-e989-de23511d1ba2"
      },
      "source": [
        "print(mod2.score(X_test, y_test))"
      ],
      "execution_count": 153,
      "outputs": [
        {
          "output_type": "stream",
          "text": [
            "0.9412751677852349\n"
          ],
          "name": "stdout"
        }
      ]
    },
    {
      "cell_type": "markdown",
      "metadata": {
        "id": "j6GO9ykfbjnN"
      },
      "source": [
        "Новые значения:"
      ]
    },
    {
      "cell_type": "code",
      "metadata": {
        "colab": {
          "base_uri": "https://localhost:8080/"
        },
        "id": "6wXaeHI7jnlD",
        "outputId": "bc4693de-4d24-49c2-c23c-1f4691b4a18b"
      },
      "source": [
        "print_metrics(mod2, X_test, y_test)"
      ],
      "execution_count": 154,
      "outputs": [
        {
          "output_type": "stream",
          "text": [
            "Kappa value: 0.8007708535845116\n",
            "Matthews Correlation Coefficient: 0.8124388888915726\n",
            "ROC-AUC value: 0.9861720968638104\n",
            "PR-AUC value: 0.9604497120020927\n",
            "Precision value: 0.9709090909090909\n",
            "Recall value: 0.7335164835164835\n",
            "Loss: 701650.0\n"
          ],
          "name": "stdout"
        }
      ]
    },
    {
      "cell_type": "markdown",
      "metadata": {
        "id": "w-Hg6mNLblwl"
      },
      "source": [
        "Старые значения:"
      ]
    },
    {
      "cell_type": "code",
      "metadata": {
        "colab": {
          "base_uri": "https://localhost:8080/"
        },
        "id": "WHBGVUS-bifM",
        "outputId": "853ae06c-bc01-45fe-ec2f-0c9bd702b160"
      },
      "source": [
        "print_metrics(mod, X_test, y_test)"
      ],
      "execution_count": 155,
      "outputs": [
        {
          "output_type": "stream",
          "text": [
            "Kappa value: 0.7728924844647672\n",
            "Matthews Correlation Coefficient: 0.7907953453805613\n",
            "ROC-AUC value: 0.9853830333991851\n",
            "PR-AUC value: 0.9609472028991017\n",
            "Precision value: 0.984313725490196\n",
            "Recall value: 0.6895604395604396\n",
            "Loss: 609590.0\n"
          ],
          "name": "stdout"
        }
      ]
    },
    {
      "cell_type": "markdown",
      "metadata": {
        "id": "OktbTyS8bxWX"
      },
      "source": [
        "Забавно, все метрики улучшены, а денег мы теряем больше."
      ]
    },
    {
      "cell_type": "code",
      "metadata": {
        "id": "fiGZh87fkVO4"
      },
      "source": [
        ""
      ],
      "execution_count": null,
      "outputs": []
    }
  ]
}