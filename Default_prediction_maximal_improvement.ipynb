{
  "nbformat": 4,
  "nbformat_minor": 0,
  "metadata": {
    "colab": {
      "name": "Default_prediction_maximal_improvement.ipynb",
      "provenance": [],
      "collapsed_sections": [],
      "toc_visible": true
    },
    "kernelspec": {
      "name": "python3",
      "display_name": "Python 3"
    },
    "language_info": {
      "name": "python"
    },
    "accelerator": "GPU"
  },
  "cells": [
    {
      "cell_type": "markdown",
      "metadata": {
        "id": "r4gh_deSX_pr"
      },
      "source": [
        "# Подготовительный этап"
      ]
    },
    {
      "cell_type": "markdown",
      "metadata": {
        "id": "JhitMgHgm-cB"
      },
      "source": [
        "### Подключение библиотек"
      ]
    },
    {
      "cell_type": "code",
      "metadata": {
        "id": "Ch3GEtEFbkbA"
      },
      "source": [
        "%%capture\n",
        "\n",
        "import pandas as pd\n",
        "import numpy as np\n",
        "import matplotlib.pyplot as plt\n",
        "import seaborn as sns\n",
        "\n",
        "import copy\n",
        "from time import time\n",
        "\n",
        "# вспомогательные функции\n",
        "from sklearn.model_selection import train_test_split\n",
        "from sklearn.preprocessing import OneHotEncoder\n",
        "\n",
        "# метрики\n",
        "from sklearn.metrics import accuracy_score\n",
        "from sklearn.metrics import roc_auc_score\n",
        "from sklearn.metrics import precision_recall_curve\n",
        "from sklearn.metrics import auc\n",
        "from sklearn.metrics import precision_score\n",
        "from sklearn.metrics import recall_score\n",
        "\n",
        "# модели\n",
        "from sklearn.ensemble import RandomForestClassifier\n",
        "from sklearn.linear_model import LogisticRegression\n",
        "from sklearn.dummy import DummyClassifier\n",
        "\n",
        "# аугментация данных\n",
        "from imblearn.over_sampling import SMOTE\n",
        "from imblearn.over_sampling import SVMSMOTE"
      ],
      "execution_count": null,
      "outputs": []
    },
    {
      "cell_type": "markdown",
      "metadata": {
        "id": "ZrAPKrExm8GJ"
      },
      "source": [
        "Установим optuna"
      ]
    },
    {
      "cell_type": "code",
      "metadata": {
        "id": "ZU0iYk48m7qM"
      },
      "source": [
        "%%capture\n",
        "! pip install optuna\n",
        "import optuna \n",
        "from optuna import Trial, visualization\n",
        "from optuna.samplers import TPESampler"
      ],
      "execution_count": null,
      "outputs": []
    },
    {
      "cell_type": "markdown",
      "metadata": {
        "id": "sx4JgXqGnNb2"
      },
      "source": [
        "Установим CatBoostClassifier"
      ]
    },
    {
      "cell_type": "code",
      "metadata": {
        "id": "7w2ICkZ-nMuZ"
      },
      "source": [
        "%%capture\n",
        "! pip install catboost\n",
        "from catboost import CatBoostClassifier"
      ],
      "execution_count": null,
      "outputs": []
    },
    {
      "cell_type": "markdown",
      "metadata": {
        "id": "6u-7WLbknCI0"
      },
      "source": [
        "### Загрузка датасета"
      ]
    },
    {
      "cell_type": "code",
      "metadata": {
        "id": "cWjsozXAbzK0"
      },
      "source": [
        "df = pd.read_csv('hmeq.csv')"
      ],
      "execution_count": null,
      "outputs": []
    },
    {
      "cell_type": "markdown",
      "metadata": {
        "id": "rMxAS8GUYEyi"
      },
      "source": [
        "Рассмотрим данные таблицы:"
      ]
    },
    {
      "cell_type": "code",
      "metadata": {
        "colab": {
          "base_uri": "https://localhost:8080/",
          "height": 419
        },
        "id": "mgiwJ3vqc5zz",
        "outputId": "3e269547-f1c2-4e8c-b581-675ed399d394"
      },
      "source": [
        "df"
      ],
      "execution_count": null,
      "outputs": [
        {
          "output_type": "execute_result",
          "data": {
            "text/html": [
              "<div>\n",
              "<style scoped>\n",
              "    .dataframe tbody tr th:only-of-type {\n",
              "        vertical-align: middle;\n",
              "    }\n",
              "\n",
              "    .dataframe tbody tr th {\n",
              "        vertical-align: top;\n",
              "    }\n",
              "\n",
              "    .dataframe thead th {\n",
              "        text-align: right;\n",
              "    }\n",
              "</style>\n",
              "<table border=\"1\" class=\"dataframe\">\n",
              "  <thead>\n",
              "    <tr style=\"text-align: right;\">\n",
              "      <th></th>\n",
              "      <th>BAD</th>\n",
              "      <th>LOAN</th>\n",
              "      <th>MORTDUE</th>\n",
              "      <th>VALUE</th>\n",
              "      <th>REASON</th>\n",
              "      <th>JOB</th>\n",
              "      <th>YOJ</th>\n",
              "      <th>DEROG</th>\n",
              "      <th>DELINQ</th>\n",
              "      <th>CLAGE</th>\n",
              "      <th>NINQ</th>\n",
              "      <th>CLNO</th>\n",
              "      <th>DEBTINC</th>\n",
              "    </tr>\n",
              "  </thead>\n",
              "  <tbody>\n",
              "    <tr>\n",
              "      <th>0</th>\n",
              "      <td>1</td>\n",
              "      <td>1100</td>\n",
              "      <td>25860.0</td>\n",
              "      <td>39025.0</td>\n",
              "      <td>HomeImp</td>\n",
              "      <td>Other</td>\n",
              "      <td>10.5</td>\n",
              "      <td>0.0</td>\n",
              "      <td>0.0</td>\n",
              "      <td>94.366667</td>\n",
              "      <td>1.0</td>\n",
              "      <td>9.0</td>\n",
              "      <td>NaN</td>\n",
              "    </tr>\n",
              "    <tr>\n",
              "      <th>1</th>\n",
              "      <td>1</td>\n",
              "      <td>1300</td>\n",
              "      <td>70053.0</td>\n",
              "      <td>68400.0</td>\n",
              "      <td>HomeImp</td>\n",
              "      <td>Other</td>\n",
              "      <td>7.0</td>\n",
              "      <td>0.0</td>\n",
              "      <td>2.0</td>\n",
              "      <td>121.833333</td>\n",
              "      <td>0.0</td>\n",
              "      <td>14.0</td>\n",
              "      <td>NaN</td>\n",
              "    </tr>\n",
              "    <tr>\n",
              "      <th>2</th>\n",
              "      <td>1</td>\n",
              "      <td>1500</td>\n",
              "      <td>13500.0</td>\n",
              "      <td>16700.0</td>\n",
              "      <td>HomeImp</td>\n",
              "      <td>Other</td>\n",
              "      <td>4.0</td>\n",
              "      <td>0.0</td>\n",
              "      <td>0.0</td>\n",
              "      <td>149.466667</td>\n",
              "      <td>1.0</td>\n",
              "      <td>10.0</td>\n",
              "      <td>NaN</td>\n",
              "    </tr>\n",
              "    <tr>\n",
              "      <th>3</th>\n",
              "      <td>1</td>\n",
              "      <td>1500</td>\n",
              "      <td>NaN</td>\n",
              "      <td>NaN</td>\n",
              "      <td>NaN</td>\n",
              "      <td>NaN</td>\n",
              "      <td>NaN</td>\n",
              "      <td>NaN</td>\n",
              "      <td>NaN</td>\n",
              "      <td>NaN</td>\n",
              "      <td>NaN</td>\n",
              "      <td>NaN</td>\n",
              "      <td>NaN</td>\n",
              "    </tr>\n",
              "    <tr>\n",
              "      <th>4</th>\n",
              "      <td>0</td>\n",
              "      <td>1700</td>\n",
              "      <td>97800.0</td>\n",
              "      <td>112000.0</td>\n",
              "      <td>HomeImp</td>\n",
              "      <td>Office</td>\n",
              "      <td>3.0</td>\n",
              "      <td>0.0</td>\n",
              "      <td>0.0</td>\n",
              "      <td>93.333333</td>\n",
              "      <td>0.0</td>\n",
              "      <td>14.0</td>\n",
              "      <td>NaN</td>\n",
              "    </tr>\n",
              "    <tr>\n",
              "      <th>...</th>\n",
              "      <td>...</td>\n",
              "      <td>...</td>\n",
              "      <td>...</td>\n",
              "      <td>...</td>\n",
              "      <td>...</td>\n",
              "      <td>...</td>\n",
              "      <td>...</td>\n",
              "      <td>...</td>\n",
              "      <td>...</td>\n",
              "      <td>...</td>\n",
              "      <td>...</td>\n",
              "      <td>...</td>\n",
              "      <td>...</td>\n",
              "    </tr>\n",
              "    <tr>\n",
              "      <th>5955</th>\n",
              "      <td>0</td>\n",
              "      <td>88900</td>\n",
              "      <td>57264.0</td>\n",
              "      <td>90185.0</td>\n",
              "      <td>DebtCon</td>\n",
              "      <td>Other</td>\n",
              "      <td>16.0</td>\n",
              "      <td>0.0</td>\n",
              "      <td>0.0</td>\n",
              "      <td>221.808718</td>\n",
              "      <td>0.0</td>\n",
              "      <td>16.0</td>\n",
              "      <td>36.112347</td>\n",
              "    </tr>\n",
              "    <tr>\n",
              "      <th>5956</th>\n",
              "      <td>0</td>\n",
              "      <td>89000</td>\n",
              "      <td>54576.0</td>\n",
              "      <td>92937.0</td>\n",
              "      <td>DebtCon</td>\n",
              "      <td>Other</td>\n",
              "      <td>16.0</td>\n",
              "      <td>0.0</td>\n",
              "      <td>0.0</td>\n",
              "      <td>208.692070</td>\n",
              "      <td>0.0</td>\n",
              "      <td>15.0</td>\n",
              "      <td>35.859971</td>\n",
              "    </tr>\n",
              "    <tr>\n",
              "      <th>5957</th>\n",
              "      <td>0</td>\n",
              "      <td>89200</td>\n",
              "      <td>54045.0</td>\n",
              "      <td>92924.0</td>\n",
              "      <td>DebtCon</td>\n",
              "      <td>Other</td>\n",
              "      <td>15.0</td>\n",
              "      <td>0.0</td>\n",
              "      <td>0.0</td>\n",
              "      <td>212.279697</td>\n",
              "      <td>0.0</td>\n",
              "      <td>15.0</td>\n",
              "      <td>35.556590</td>\n",
              "    </tr>\n",
              "    <tr>\n",
              "      <th>5958</th>\n",
              "      <td>0</td>\n",
              "      <td>89800</td>\n",
              "      <td>50370.0</td>\n",
              "      <td>91861.0</td>\n",
              "      <td>DebtCon</td>\n",
              "      <td>Other</td>\n",
              "      <td>14.0</td>\n",
              "      <td>0.0</td>\n",
              "      <td>0.0</td>\n",
              "      <td>213.892709</td>\n",
              "      <td>0.0</td>\n",
              "      <td>16.0</td>\n",
              "      <td>34.340882</td>\n",
              "    </tr>\n",
              "    <tr>\n",
              "      <th>5959</th>\n",
              "      <td>0</td>\n",
              "      <td>89900</td>\n",
              "      <td>48811.0</td>\n",
              "      <td>88934.0</td>\n",
              "      <td>DebtCon</td>\n",
              "      <td>Other</td>\n",
              "      <td>15.0</td>\n",
              "      <td>0.0</td>\n",
              "      <td>0.0</td>\n",
              "      <td>219.601002</td>\n",
              "      <td>0.0</td>\n",
              "      <td>16.0</td>\n",
              "      <td>34.571519</td>\n",
              "    </tr>\n",
              "  </tbody>\n",
              "</table>\n",
              "<p>5960 rows × 13 columns</p>\n",
              "</div>"
            ],
            "text/plain": [
              "      BAD   LOAN  MORTDUE     VALUE  ...       CLAGE NINQ  CLNO    DEBTINC\n",
              "0       1   1100  25860.0   39025.0  ...   94.366667  1.0   9.0        NaN\n",
              "1       1   1300  70053.0   68400.0  ...  121.833333  0.0  14.0        NaN\n",
              "2       1   1500  13500.0   16700.0  ...  149.466667  1.0  10.0        NaN\n",
              "3       1   1500      NaN       NaN  ...         NaN  NaN   NaN        NaN\n",
              "4       0   1700  97800.0  112000.0  ...   93.333333  0.0  14.0        NaN\n",
              "...   ...    ...      ...       ...  ...         ...  ...   ...        ...\n",
              "5955    0  88900  57264.0   90185.0  ...  221.808718  0.0  16.0  36.112347\n",
              "5956    0  89000  54576.0   92937.0  ...  208.692070  0.0  15.0  35.859971\n",
              "5957    0  89200  54045.0   92924.0  ...  212.279697  0.0  15.0  35.556590\n",
              "5958    0  89800  50370.0   91861.0  ...  213.892709  0.0  16.0  34.340882\n",
              "5959    0  89900  48811.0   88934.0  ...  219.601002  0.0  16.0  34.571519\n",
              "\n",
              "[5960 rows x 13 columns]"
            ]
          },
          "metadata": {
            "tags": []
          },
          "execution_count": 5
        }
      ]
    },
    {
      "cell_type": "markdown",
      "metadata": {
        "id": "-j_EX72XMDfw"
      },
      "source": [
        "Для начала давайте рассмотрим длю пропусков в каждой колонке:"
      ]
    },
    {
      "cell_type": "code",
      "metadata": {
        "colab": {
          "base_uri": "https://localhost:8080/"
        },
        "id": "WnmIt_48MHYp",
        "outputId": "fdbc6e80-70a2-4d95-9619-9448bfc0a1ee"
      },
      "source": [
        "df.isna().mean(axis=0)"
      ],
      "execution_count": null,
      "outputs": [
        {
          "output_type": "execute_result",
          "data": {
            "text/plain": [
              "BAD        0.000000\n",
              "LOAN       0.000000\n",
              "MORTDUE    0.086913\n",
              "VALUE      0.018792\n",
              "REASON     0.042282\n",
              "JOB        0.046812\n",
              "YOJ        0.086409\n",
              "DEROG      0.118792\n",
              "DELINQ     0.097315\n",
              "CLAGE      0.051678\n",
              "NINQ       0.085570\n",
              "CLNO       0.037248\n",
              "DEBTINC    0.212584\n",
              "dtype: float64"
            ]
          },
          "metadata": {
            "tags": []
          },
          "execution_count": 6
        }
      ]
    },
    {
      "cell_type": "markdown",
      "metadata": {
        "id": "N-epaHvvYTEK"
      },
      "source": [
        "# Работа с данными"
      ]
    },
    {
      "cell_type": "markdown",
      "metadata": {
        "id": "bTLniV-lHTrW"
      },
      "source": [
        "При рассмотрении этих данных стоит учитывать тот факт, что все эти заявки - кредиты, уже одобренные прошлым алгоритмом. Из-за этого отличия в данных говорят скорее не об особенностях клиентов, а о предвзятостях существующей модели."
      ]
    },
    {
      "cell_type": "markdown",
      "metadata": {
        "id": "QAEM9BU7YoBx"
      },
      "source": [
        "### Графики распределения по признакам"
      ]
    },
    {
      "cell_type": "markdown",
      "metadata": {
        "id": "xby4jO1KY5Wq"
      },
      "source": [
        "**Числовые признаки**"
      ]
    },
    {
      "cell_type": "code",
      "metadata": {
        "id": "FxifWiuJ2aLK",
        "colab": {
          "base_uri": "https://localhost:8080/",
          "height": 458
        },
        "outputId": "2f91b855-4a9f-4bc0-beaa-72db29125ef7"
      },
      "source": [
        "plt.figure(figsize=(10, 7))\n",
        "plt.hist(df['LOAN'][df['BAD'] == 0], bins=100, alpha=0.5, label='good', density=True)\n",
        "plt.hist(df['LOAN'][df['BAD'] == 1], bins=100, alpha=0.5, label='bad', density=True, color='red')\n",
        "plt.legend()\n",
        "plt.xlabel('Размер запрашиваемого займа')\n",
        "plt.title('Распределение размера займа для неудачных и удачных кредитов')\n",
        "plt.show()"
      ],
      "execution_count": null,
      "outputs": [
        {
          "output_type": "display_data",
          "data": {
            "image/png": "[encoded data removed]",
            "text/plain": [
              "<Figure size 720x504 with 1 Axes>"
            ]
          },
          "metadata": {
            "tags": [],
            "needs_background": "light"
          }
        }
      ]
    },
    {
      "cell_type": "code",
      "metadata": {
        "colab": {
          "base_uri": "https://localhost:8080/",
          "height": 458
        },
        "id": "6URjgYsKB5_7",
        "outputId": "db03d1c0-db31-46d5-accc-0d90df94a535"
      },
      "source": [
        "plt.figure(figsize=(10, 7))\n",
        "\n",
        "plt.hist(df['MORTDUE'][df['BAD'] == 0], bins=100, alpha=0.5, label='good', density=True)\n",
        "plt.hist(df['MORTDUE'][df['BAD'] == 1], bins=100, alpha=0.5, label='bad', density=True, color='red')\n",
        "plt.legend()\n",
        "plt.xlabel('Размер остатка по ипотеке')\n",
        "plt.title('Распределение остатка по ипотеке для неудачных и удачных кредитов')\n",
        "\n",
        "plt.show()"
      ],
      "execution_count": null,
      "outputs": [
        {
          "output_type": "display_data",
          "data": {
            "image/png": "[encoded data removed]",
            "text/plain": [
              "<Figure size 720x504 with 1 Axes>"
            ]
          },
          "metadata": {
            "tags": [],
            "needs_background": "light"
          }
        }
      ]
    },
    {
      "cell_type": "code",
      "metadata": {
        "colab": {
          "base_uri": "https://localhost:8080/",
          "height": 459
        },
        "id": "5XQG6WWmCPAr",
        "outputId": "22d29697-b1d5-4b71-fac8-9881a042035e"
      },
      "source": [
        "plt.figure(figsize=(10, 7))\n",
        "\n",
        "plt.hist(df['VALUE'][df['BAD'] == 0], bins=100, alpha=0.5, label='good', density=True)\n",
        "plt.hist(df['VALUE'][df['BAD'] == 1], bins=100, alpha=0.5, label='bad', density=True, color='red')\n",
        "plt.legend()\n",
        "plt.xlabel('Суммарная стоимость собственности')\n",
        "plt.title('Распределение суммарной стоимости собственности для неудачных и удачных кредитов')\n",
        "\n",
        "plt.show()"
      ],
      "execution_count": null,
      "outputs": [
        {
          "output_type": "display_data",
          "data": {
            "image/png": "[encoded data removed]",
            "text/plain": [
              "<Figure size 720x504 with 1 Axes>"
            ]
          },
          "metadata": {
            "tags": [],
            "needs_background": "light"
          }
        }
      ]
    },
    {
      "cell_type": "markdown",
      "metadata": {
        "id": "2crBX9lfY8-8"
      },
      "source": [
        "**Категориальные признаки**"
      ]
    },
    {
      "cell_type": "code",
      "metadata": {
        "colab": {
          "base_uri": "https://localhost:8080/",
          "height": 442
        },
        "id": "YAfmVvTHC7KE",
        "outputId": "7fba05ac-4a8d-4263-8172-46c8bfca0031"
      },
      "source": [
        "plt.figure(figsize=(10, 7))\n",
        "plt.bar(x=['DebtCon', 'HomeImp'], height=(df.groupby('REASON').mean()['BAD']))\n",
        "plt.ylabel('Доля банкротств')\n",
        "plt.xlabel('Повод для займа')\n",
        "plt.show()"
      ],
      "execution_count": null,
      "outputs": [
        {
          "output_type": "display_data",
          "data": {
            "image/png": "[encoded data removed]",
            "text/plain": [
              "<Figure size 720x504 with 1 Axes>"
            ]
          },
          "metadata": {
            "tags": [],
            "needs_background": "light"
          }
        }
      ]
    },
    {
      "cell_type": "markdown",
      "metadata": {
        "id": "DRI2VFwfIsqH"
      },
      "source": [
        "Интуитивно понятно, что реструктуризация долгов - потенциально более рискованная инвестиция, чем покупка для улучшения дома. Возможно прошлые данные овер-компенсировали этот риск, поэтому в нашем датасете реструктуризация статистически надежнее."
      ]
    },
    {
      "cell_type": "code",
      "metadata": {
        "colab": {
          "base_uri": "https://localhost:8080/",
          "height": 442
        },
        "id": "QpSFZscACp0-",
        "outputId": "42a80690-e408-4d0a-e4ea-930f94f629be"
      },
      "source": [
        "plt.figure(figsize=(10, 7))\n",
        "plt.bar(x=(df.groupby('JOB').mean()['BAD']).index, height=(df.groupby('JOB').mean()['BAD']))\n",
        "plt.ylabel('Доля банкротств')\n",
        "plt.xlabel('Место работы')\n",
        "\n",
        "plt.show()"
      ],
      "execution_count": null,
      "outputs": [
        {
          "output_type": "display_data",
          "data": {
            "image/png": "[encoded data removed]",
            "text/plain": [
              "<Figure size 720x504 with 1 Axes>"
            ]
          },
          "metadata": {
            "tags": [],
            "needs_background": "light"
          }
        }
      ]
    },
    {
      "cell_type": "markdown",
      "metadata": {
        "id": "BECkaBUTZBzQ"
      },
      "source": [
        "### Значимость признаков"
      ]
    },
    {
      "cell_type": "markdown",
      "metadata": {
        "id": "YFwxUi6jLya7"
      },
      "source": [
        "Давайте оценим важность признаков с помощью t-статистики, чтобы выделить наиболее значимые для нашей классификации"
      ]
    },
    {
      "cell_type": "code",
      "metadata": {
        "id": "U9_JtmVJ1xmp"
      },
      "source": [
        "dfpos = df[df['BAD'] == 0].drop(['BAD', 'JOB', 'REASON'] , axis=1)\n",
        "dfneg = df[df['BAD'] == 1].drop(['BAD', 'JOB', 'REASON'] , axis=1)\n",
        "t = np.abs(dfpos.mean(axis=0) - dfneg.mean(axis=0)) / np.sqrt((len(dfpos) * dfpos.std(axis=0)**2 + len(dfneg) * dfneg.std(axis=0)**2)/ (len(dfpos) + len(dfneg)))\n"
      ],
      "execution_count": null,
      "outputs": []
    },
    {
      "cell_type": "code",
      "metadata": {
        "colab": {
          "base_uri": "https://localhost:8080/"
        },
        "id": "cUA1PrdVLZX-",
        "outputId": "9c7ef69e-a1da-4b01-995c-dd236b1deb73"
      },
      "source": [
        "t"
      ],
      "execution_count": null,
      "outputs": [
        {
          "output_type": "execute_result",
          "data": {
            "text/plain": [
              "LOAN       0.188425\n",
              "MORTDUE    0.120885\n",
              "VALUE      0.076650\n",
              "YOJ        0.148999\n",
              "DEROG      0.715846\n",
              "DELINQ     0.944193\n",
              "CLAGE      0.435324\n",
              "NINQ       0.441615\n",
              "CLNO       0.010427\n",
              "DEBTINC    0.609487\n",
              "dtype: float64"
            ]
          },
          "metadata": {
            "tags": []
          },
          "execution_count": 13
        }
      ]
    },
    {
      "cell_type": "markdown",
      "metadata": {
        "id": "mAvJr9aBMpRP"
      },
      "source": [
        "'DEROG', 'DELINQ' - обобщая, эти признаки говорят нам об уже просроченных кредитах. Понятно, почему эти признаки очень важны."
      ]
    },
    {
      "cell_type": "markdown",
      "metadata": {
        "id": "ljENQE3iNav0"
      },
      "source": [
        "'DEBTINC' - отношение долга к доходу"
      ]
    },
    {
      "cell_type": "code",
      "metadata": {
        "colab": {
          "base_uri": "https://localhost:8080/",
          "height": 442
        },
        "id": "656Q893MNjDe",
        "outputId": "cbed783f-99aa-4d80-d0ae-3656193dddb0"
      },
      "source": [
        "plt.figure(figsize=(10, 7))\n",
        "\n",
        "plt.hist(df['DELINQ'][df['BAD'] == 0], bins=5, alpha=0.5, label='good', density=True)\n",
        "plt.hist(df['DELINQ'][df['BAD'] == 1], bins=15, alpha=0.5, label='bad', density=True, color='red')\n",
        "plt.legend()\n",
        "plt.xlabel('Количество просрочек по кредиту')\n",
        "\n",
        "plt.show()"
      ],
      "execution_count": null,
      "outputs": [
        {
          "output_type": "display_data",
          "data": {
            "image/png": "[encoded data removed]",
            "text/plain": [
              "<Figure size 720x504 with 1 Axes>"
            ]
          },
          "metadata": {
            "tags": [],
            "needs_background": "light"
          }
        }
      ]
    },
    {
      "cell_type": "code",
      "metadata": {
        "colab": {
          "base_uri": "https://localhost:8080/",
          "height": 442
        },
        "id": "QlJJTzoEOG4D",
        "outputId": "5261b614-5a01-4a06-d80e-2d33de9fbef2"
      },
      "source": [
        "plt.figure(figsize=(10, 7))\n",
        "\n",
        "plt.hist(df['DEROG'][df['BAD'] == 0], bins=range(10), alpha=0.5, label='good', density=True)\n",
        "plt.hist(df['DEROG'][df['BAD'] == 1], bins=range(10), alpha=0.5, label='bad', density=True, color='red')\n",
        "plt.legend()\n",
        "plt.xlabel('Количество прблем по кредиту')\n",
        "\n",
        "plt.show()"
      ],
      "execution_count": null,
      "outputs": [
        {
          "output_type": "display_data",
          "data": {
            "image/png": "[encoded data removed]",
            "text/plain": [
              "<Figure size 720x504 with 1 Axes>"
            ]
          },
          "metadata": {
            "tags": [],
            "needs_background": "light"
          }
        }
      ]
    },
    {
      "cell_type": "code",
      "metadata": {
        "colab": {
          "base_uri": "https://localhost:8080/"
        },
        "id": "I9hFIbnwb1pD",
        "outputId": "a3d1b728-346f-4c13-977a-fde64f54c49f"
      },
      "source": [
        "df['REASON'].value_counts()"
      ],
      "execution_count": null,
      "outputs": [
        {
          "output_type": "execute_result",
          "data": {
            "text/plain": [
              "DebtCon    3928\n",
              "HomeImp    1780\n",
              "Name: REASON, dtype: int64"
            ]
          },
          "metadata": {
            "tags": []
          },
          "execution_count": 16
        }
      ]
    },
    {
      "cell_type": "code",
      "metadata": {
        "colab": {
          "base_uri": "https://localhost:8080/"
        },
        "id": "7uo80n8Kc7Aq",
        "outputId": "1144c191-42d2-4030-9d14-258e28307bb5"
      },
      "source": [
        "df['JOB'].value_counts()"
      ],
      "execution_count": null,
      "outputs": [
        {
          "output_type": "execute_result",
          "data": {
            "text/plain": [
              "Other      2388\n",
              "ProfExe    1276\n",
              "Office      948\n",
              "Mgr         767\n",
              "Self        193\n",
              "Sales       109\n",
              "Name: JOB, dtype: int64"
            ]
          },
          "metadata": {
            "tags": []
          },
          "execution_count": 17
        }
      ]
    },
    {
      "cell_type": "code",
      "metadata": {
        "colab": {
          "base_uri": "https://localhost:8080/"
        },
        "id": "6CF1kuqeehth",
        "outputId": "e33aafec-f1e3-43d8-fa18-9c9b35598a91"
      },
      "source": [
        "df.isna().sum()"
      ],
      "execution_count": null,
      "outputs": [
        {
          "output_type": "execute_result",
          "data": {
            "text/plain": [
              "BAD           0\n",
              "LOAN          0\n",
              "MORTDUE     518\n",
              "VALUE       112\n",
              "REASON      252\n",
              "JOB         279\n",
              "YOJ         515\n",
              "DEROG       708\n",
              "DELINQ      580\n",
              "CLAGE       308\n",
              "NINQ        510\n",
              "CLNO        222\n",
              "DEBTINC    1267\n",
              "dtype: int64"
            ]
          },
          "metadata": {
            "tags": []
          },
          "execution_count": 18
        }
      ]
    },
    {
      "cell_type": "markdown",
      "metadata": {
        "id": "qZ-v50mjZOMx"
      },
      "source": [
        "### Заполнение пропусков"
      ]
    },
    {
      "cell_type": "markdown",
      "metadata": {
        "id": "PFOOjivbO8Vn"
      },
      "source": [
        "Давайте для начала заполним пропуски в категориальных переменных отдельным значением, в числовых - средним, а переменную с наибольшим количеством пропусков пока удалим."
      ]
    },
    {
      "cell_type": "code",
      "metadata": {
        "id": "heN-tW9ne2Hb"
      },
      "source": [
        "df_pure = copy.deepcopy(df).drop('DEBTINC', axis=1)\n",
        "df_pure[['JOB', 'REASON']] = df_pure[['JOB', 'REASON']].fillna('NAN')\n",
        "df_pure = df_pure.fillna(df_pure.mean(axis=0))\n",
        "\n",
        "y = df_pure['BAD'].values\n",
        "X = df_pure.drop(\"BAD\", axis=1).values"
      ],
      "execution_count": null,
      "outputs": []
    },
    {
      "cell_type": "markdown",
      "metadata": {
        "id": "Ehf9-zwuQKLa"
      },
      "source": [
        "Закодируем категориальные переменные"
      ]
    },
    {
      "cell_type": "code",
      "metadata": {
        "id": "DncrNIsqgRHx"
      },
      "source": [
        "X = np.concatenate((X[:, :3], OneHotEncoder(sparse=False).fit_transform(X[:, [3, 4]]), X[:, 5:]), axis=1)"
      ],
      "execution_count": null,
      "outputs": []
    },
    {
      "cell_type": "markdown",
      "metadata": {
        "id": "2HIN6OLnZsdo"
      },
      "source": [
        "Разобьем на тренировочные и тестовые данные"
      ]
    },
    {
      "cell_type": "code",
      "metadata": {
        "id": "02hzycSigOYh"
      },
      "source": [
        "X_train, X_test, y_train, y_test = train_test_split(X, y, test_size=0.15, random_state=179)\n",
        "X_val, X_test, y_val, y_test = train_test_split(X_test, y_test, test_size=0.5, random_state=179)"
      ],
      "execution_count": null,
      "outputs": []
    },
    {
      "cell_type": "markdown",
      "metadata": {
        "id": "EsWFgq5FZyby"
      },
      "source": [
        "Проверим данные"
      ]
    },
    {
      "cell_type": "code",
      "metadata": {
        "id": "-6jN4rDFisJC"
      },
      "source": [
        "isnatrain, isnatest = train_test_split(df.isna().mean(axis=1), test_size=0.3, random_state=179)"
      ],
      "execution_count": null,
      "outputs": []
    },
    {
      "cell_type": "markdown",
      "metadata": {
        "id": "GUio-0EyaNgA"
      },
      "source": [
        "# Вспомогательные функции"
      ]
    },
    {
      "cell_type": "markdown",
      "metadata": {
        "id": "gdac28URcLVz"
      },
      "source": [
        "Рассмотрим различные критерии, по которым можно сравнить результат работы моделей"
      ]
    },
    {
      "cell_type": "markdown",
      "metadata": {
        "id": "Gau9yaNNdNKs"
      },
      "source": [
        "### Стандартные критерии"
      ]
    },
    {
      "cell_type": "markdown",
      "metadata": {
        "id": "gi1VgGORcj9Z"
      },
      "source": [
        "\n",
        "\n",
        "*   accuracy, как удобныая и интерпретируемая, но не всегда информативная метрика\n",
        "*   площадь под precision-recall кривой\n",
        "*   площадь по tpr/fpr кривой\n",
        "*   F-мера\n",
        "\n"
      ]
    },
    {
      "cell_type": "markdown",
      "metadata": {
        "id": "EfztCVe_dPhV"
      },
      "source": [
        "### Вспомогательные критерии "
      ]
    },
    {
      "cell_type": "markdown",
      "metadata": {
        "id": "CNAH8FHMajXa"
      },
      "source": [
        "Реализуем также \n",
        "\n",
        "*   Cohen's kappa coefficient (https://en.wikipedia.org/wiki/Cohen%27s_kappa) \n",
        "\n",
        "$$\\kappa = \\frac{p_o - p_e}{1 - p_e}$$\n",
        "\n",
        "*   Matthews correlation coefficient (https://en.wikipedia.org/wiki/Matthews_correlation_coefficient)\n",
        "\n",
        "$$\\text{MCC} = \\frac{TP\\times TN - FP \\times FN}{\\sqrt{(TP+FP)(TP+FN)(TN+FP)(TN+FN)}}$$ \n",
        "\n"
      ]
    },
    {
      "cell_type": "code",
      "metadata": {
        "id": "ddgjiHBuacy8"
      },
      "source": [
        "def kappa(y0, y1, pos=1, neg=0):\n",
        "    po = accuracy_score(y0, y1)\n",
        "\n",
        "    pos0 = (y0 == pos).mean()\n",
        "    pos1 = (y1 == pos).mean()\n",
        "    pe = (pos0 * pos1) + (1 - pos0) * (1 - pos1)\n",
        "\n",
        "    k = (po - pe) / (1 - pe)\n",
        "    return k\n",
        "\n",
        "def matthews(pred, target, pos=1, neg=0):\n",
        "    tp = np.sum((pred == pos) & (target == pos))\n",
        "    tn = np.sum((pred == neg) & (target == neg))\n",
        "    fp = np.sum((pred == pos) & (target == neg))\n",
        "    fn = np.sum((pred == neg) & (target == pos))\n",
        "\n",
        "    if (tp + fp) * (tp + fn) * (tn + fp) * (tn + fn) == 0:\n",
        "        return 0 # условность, чтобы не вылезало так много nan\n",
        "\n",
        "    return (tp * tn - fp * fn) / np.sqrt((tp + fp) * (tp + fn) * (tn + fp) * (tn + fn))"
      ],
      "execution_count": null,
      "outputs": []
    },
    {
      "cell_type": "markdown",
      "metadata": {
        "id": "Dk_V4ZRZdJsI"
      },
      "source": [
        "### Бизнес критерий"
      ]
    },
    {
      "cell_type": "markdown",
      "metadata": {
        "id": "1LRgUfuadrCM"
      },
      "source": [
        "Было бы логично предположить, что невозврат денег для нас несет больше урона, чем бы нам принесло успешное возвращение. Это говорит нам о том, что порог выдачи кредита стоит выставить ниже чем 0.5 вероятности дефолта"
      ]
    },
    {
      "cell_type": "markdown",
      "metadata": {
        "id": "xx3ZI6kwdtX3"
      },
      "source": [
        "Напишем функцию, которая максимизирует ожидание прибыли, исходя из предположения о том, что наша выгода составляет x% суммы, и если человек не возвращает сумму, он не возвращает ее целиком"
      ]
    },
    {
      "cell_type": "code",
      "metadata": {
        "id": "K1bkUnUAdwQK"
      },
      "source": [
        "def get_prediction(mod, X_test, y_test, x=15):\n",
        "    y_prob = mod.predict_proba(X_test)[:, 1]\n",
        "    threshold = (x / 100) / (1 + x / 100)\n",
        "    y_pred = y_prob > threshold\n",
        "    return y_pred * 1.0"
      ],
      "execution_count": null,
      "outputs": []
    },
    {
      "cell_type": "markdown",
      "metadata": {
        "id": "YlaU_x1Hd_eg"
      },
      "source": [
        "Введем метрику, которая оценивает лосс как упущенную выгоду, по сравнению с идеальным предсказанием."
      ]
    },
    {
      "cell_type": "code",
      "metadata": {
        "id": "A63QwH2Cd9MQ"
      },
      "source": [
        "def get_gain(y_pred, y_target, loan, x=15):\n",
        "    return (((y_pred == 1) & (y_target == 1)) * loan - ((y_pred == 1) & (y_target == 0)) * loan * x / 100).sum() / loan.sum()"
      ],
      "execution_count": null,
      "outputs": []
    },
    {
      "cell_type": "markdown",
      "metadata": {
        "id": "kbVcVVwCdyVd"
      },
      "source": [
        "### Объеденим в функцию"
      ]
    },
    {
      "cell_type": "code",
      "metadata": {
        "id": "3kNsDitujMPX"
      },
      "source": [
        "logs = dict()"
      ],
      "execution_count": null,
      "outputs": []
    },
    {
      "cell_type": "code",
      "metadata": {
        "id": "vP6dKql9aRVB"
      },
      "source": [
        "def rate(mod, X_test, y_test, name=\"model\", x=15):\n",
        "    y_pred = mod.predict(X_test)\n",
        "    print(\"====== \" + name + \" ======\")\n",
        "    print()\n",
        "    ac = accuracy_score(y_pred, y_test)\n",
        "    print(f\"Accuracy:\\t{accuracy_score(y_pred, y_test)}\")\n",
        "    print(f\"Pos/neg ratio:\\t{(y_pred == 1).sum() / (y_pred == 0).sum()}\")\n",
        "    print()\n",
        "\n",
        "    print(f\"Kappa coef:\\t{kappa(y_pred, y_test)}\")\n",
        "    print(f\"Matthews coef:\\t{matthews(y_pred, y_test)}\")\n",
        "    print(f\"ROC-AUC value:\\t{roc_auc_score(y_test, mod.predict_proba(X_test)[:, 1])}\")\n",
        "    auc_pr = auc(*reversed((precision_recall_curve(y_test, mod.predict_proba(X_test)[:, 1]))[:2]))\n",
        "    print(f\"PR-AUC value:\\t{auc_pr}\")\n",
        "    pr = precision_score(y_test, y_pred)\n",
        "    rc = recall_score(y_test, y_pred)\n",
        "    print()\n",
        "    print(f\"Precision:\\t{pr}\")\n",
        "    print(f\"Recall: \\t{rc}\")\n",
        "    fscore = 2 * pr * rc / (pr + rc)\n",
        "    print(f\"F-score:\\t{fscore}\")\n",
        "\n",
        "    loan = X_test[:, 0]\n",
        "    y_pred_financial = get_prediction(mod, X_test, y_test, x=x)\n",
        "    gains = get_gain(y_pred_financial, y_test, loan, x=x)\n",
        "    print(f\"Financial gain:\\t{gains}\")\n",
        "    print()\n",
        "    print(\"=======\" + '=' * len(name) + \"=======\")\n",
        "    return ac, auc_pr, fscore, gains"
      ],
      "execution_count": null,
      "outputs": []
    },
    {
      "cell_type": "code",
      "metadata": {
        "id": "vz609Spbg6kr"
      },
      "source": [
        "def string_time(elapsed):\n",
        "    return \"%im %is\" %(int(elapsed / 60), int(elapsed % 60))"
      ],
      "execution_count": null,
      "outputs": []
    },
    {
      "cell_type": "code",
      "metadata": {
        "id": "rYwtcDWGgK-8"
      },
      "source": [
        "def run(mod, X_train, y_train, X_test, y_test, name='model', x=15):\n",
        "    global logs\n",
        "\n",
        "    start_time = time()\n",
        "    mod.fit(X_train, y_train)\n",
        "    end_time = time()\n",
        "    ac, auc_pr, fscore, gains = rate(mod, X_test, y_test, name=name, x=x)\n",
        "    elapsed = end_time - start_time\n",
        "    print(\"Time elapsed: \" + string_time(elapsed))\n",
        "\n",
        "    logs[name] = [ac, auc_pr, fscore, gains, elapsed, name]\n",
        "\n",
        "    return mod.predict(X_test)"
      ],
      "execution_count": null,
      "outputs": []
    },
    {
      "cell_type": "markdown",
      "metadata": {
        "id": "yvk4YHb4rdIa"
      },
      "source": [
        "### Калибровочная кривая"
      ]
    },
    {
      "cell_type": "markdown",
      "metadata": {
        "id": "FuESVwuErfqQ"
      },
      "source": [
        "Для оценки результата и внесения корректировок нам также понадобится калибровочная кривая"
      ]
    },
    {
      "cell_type": "code",
      "metadata": {
        "id": "sqW0NWkGrkof"
      },
      "source": [
        "def calibration_curve(mod, X, y):\n",
        "    probs = mod.predict_proba(X)[:, 1]\n",
        "    vals = []\n",
        "    for prob in np.arange(0, 1, 0.05):\n",
        "        vals.append(y[(probs >= prob) & (probs < prob + 0.05)].mean())\n",
        "    plt.plot(np.arange(0, 1, 0.05) + 0.025, vals, label='Our curve')\n",
        "    plt.plot(np.arange(0, 1, 0.05) + 0.025, np.arange(0, 1, 0.05) + 0.025, label='Perfect curve')\n",
        "    return vals\n",
        "\n",
        "def build_calibration_curve(mod, X, y):\n",
        "    plt.figure(figsize=(10, 10))\n",
        "    vals = calibration_curve(mod, X, y)\n",
        "    plt.xlabel('Predicted probability', fontdict={'size':15})\n",
        "    plt.ylabel('Fraction of positive results for this probability', fontdict={'size':15})\n",
        "    plt.legend()\n",
        "    plt.show()"
      ],
      "execution_count": null,
      "outputs": []
    },
    {
      "cell_type": "markdown",
      "metadata": {
        "id": "HxE3PFj503je"
      },
      "source": [
        "### Разное"
      ]
    },
    {
      "cell_type": "code",
      "metadata": {
        "id": "1k8NIKyV02sY"
      },
      "source": [
        "def print_vals(d):\n",
        "    ans = ''\n",
        "    for key, val in d.items():\n",
        "        ans += key + '=' + str(val) + ', '\n",
        "    return ans[:-2]"
      ],
      "execution_count": null,
      "outputs": []
    },
    {
      "cell_type": "markdown",
      "metadata": {
        "id": "Y1-dlbc8Z0D7"
      },
      "source": [
        "# Подготовка базовой модели"
      ]
    },
    {
      "cell_type": "markdown",
      "metadata": {
        "id": "812OhZshfVur"
      },
      "source": [
        "Перед сравнением моделей выведем баланс классов в исходной выборке"
      ]
    },
    {
      "cell_type": "code",
      "metadata": {
        "colab": {
          "base_uri": "https://localhost:8080/"
        },
        "id": "xouI-sB1faLb",
        "outputId": "7f0b1559-6ad9-497f-a4de-35a259d95d25"
      },
      "source": [
        "print(f\"Positive train targets: {(y_train == 1).sum()}, negative train targets: {(y_train == 0).sum()}, ratio: {(y_train == 1).sum() / (y_train == 0).sum()}\")\n",
        "print(f\"Positive val targets: {(y_val == 1).sum()}, negative val targets: {(y_val == 0).sum()}, ratio: {(y_val == 1).sum() / (y_val == 0).sum()}\")\n",
        "print(f\"Positive test targets: {(y_test == 1).sum()}, negative test targets: {(y_test == 0).sum()}, ratio: {(y_test == 1).sum() / (y_test == 0).sum()}\")"
      ],
      "execution_count": null,
      "outputs": [
        {
          "output_type": "stream",
          "text": [
            "Positive train targets: 994, negative train targets: 4072, ratio: 0.24410609037328093\n",
            "Positive val targets: 96, negative val targets: 351, ratio: 0.27350427350427353\n",
            "Positive test targets: 99, negative test targets: 348, ratio: 0.28448275862068967\n"
          ],
          "name": "stdout"
        }
      ]
    },
    {
      "cell_type": "markdown",
      "metadata": {
        "id": "TQ_AH1ItaEOC"
      },
      "source": [
        "В качестве baseline будем использовать random forest"
      ]
    },
    {
      "cell_type": "code",
      "metadata": {
        "id": "HYGwrZjvfqGU",
        "colab": {
          "base_uri": "https://localhost:8080/"
        },
        "outputId": "ff54eba1-a494-431e-d7a3-dbc926a57893"
      },
      "source": [
        "rlf_baseline = RandomForestClassifier(n_estimators=1000, random_state=179)\n",
        "y_pred = run(rlf_baseline, X_train, y_train, X_test, y_test, name='Random Forest', x=15)"
      ],
      "execution_count": null,
      "outputs": [
        {
          "output_type": "stream",
          "text": [
            "====== Random Forest ======\n",
            "\n",
            "Accuracy:\t0.9463087248322147\n",
            "Pos/neg ratio:\t0.20810810810810812\n",
            "\n",
            "Kappa coef:\t0.8308580077570711\n",
            "Matthews coef:\t0.8410284623553973\n",
            "ROC-AUC value:\t0.9902618135376756\n",
            "PR-AUC value:\t0.9752986314553959\n",
            "\n",
            "Precision:\t0.987012987012987\n",
            "Recall: \t0.7676767676767676\n",
            "F-score:\t0.8636363636363635\n",
            "Financial loss:\t0.2009025651852634\n",
            "\n",
            "===========================\n",
            "Time elapsed: 0m 7s\n"
          ],
          "name": "stdout"
        }
      ]
    },
    {
      "cell_type": "code",
      "metadata": {
        "colab": {
          "base_uri": "https://localhost:8080/",
          "height": 282
        },
        "id": "psTi5-kOeN9S",
        "outputId": "e4f84546-a7dc-403c-cf03-52eaba8d0516"
      },
      "source": [
        "x_s = np.linspace(0, 100, num=100)\n",
        "y_s = [get_gain(get_prediction(rlf_baseline, X_test, y_test, x=cur), y_test, X_test[:, 0], x=cur) for cur in x_s]\n",
        "\n",
        "plt.plot(x_s, y_s)"
      ],
      "execution_count": null,
      "outputs": [
        {
          "output_type": "execute_result",
          "data": {
            "text/plain": [
              "[<matplotlib.lines.Line2D at 0x7f26326f5f90>]"
            ]
          },
          "metadata": {
            "tags": []
          },
          "execution_count": 142
        },
        {
          "output_type": "display_data",
          "data": {
            "image/png": "[encoded data removed]",
            "text/plain": [
              "<Figure size 432x288 with 1 Axes>"
            ]
          },
          "metadata": {
            "tags": [],
            "needs_background": "light"
          }
        }
      ]
    },
    {
      "cell_type": "markdown",
      "metadata": {
        "id": "09eiz0xwYRl6"
      },
      "source": [
        "Заметим, что если выдавать кредит согласно предсказаниям модели, без поправки на оценку прибыли, ожидаемая прибыль будет существенно хуже:"
      ]
    },
    {
      "cell_type": "code",
      "metadata": {
        "id": "W4z3JpMeYj4O"
      },
      "source": [
        "get_gain(y_pred, y_test, X_test[:, 0])"
      ],
      "execution_count": null,
      "outputs": []
    },
    {
      "cell_type": "markdown",
      "metadata": {
        "id": "91QxxbjHx46G"
      },
      "source": [
        "Также сравним со **случайным классификатором**"
      ]
    },
    {
      "cell_type": "code",
      "metadata": {
        "colab": {
          "base_uri": "https://localhost:8080/"
        },
        "id": "atX_BZtEyOnX",
        "outputId": "525d91cb-6856-48ca-ca4f-09cca584b596"
      },
      "source": [
        "random_dummy = DummyClassifier(strategy=\"uniform\")\n",
        "y_pred = run(random_dummy, X_train, y_train, X_test, y_test, name='Random Forest', x=15)"
      ],
      "execution_count": null,
      "outputs": [
        {
          "output_type": "stream",
          "text": [
            "====== Random Forest ======\n",
            "\n",
            "Accuracy:\t0.47874720357941836\n",
            "Pos/neg ratio:\t0.9866666666666667\n",
            "\n",
            "Kappa coef:\t-0.046417699008349265\n",
            "Matthews coef:\t-0.05568484489855983\n",
            "ROC-AUC value:\t0.5\n",
            "PR-AUC value:\t0.610738255033557\n",
            "\n",
            "Precision:\t0.1981981981981982\n",
            "Recall: \t0.4444444444444444\n",
            "F-score:\t0.2741433021806854\n",
            "Financial loss:\t0.09752982159822654\n",
            "\n",
            "===========================\n",
            "Time elapsed: 0m 0s\n"
          ],
          "name": "stdout"
        }
      ]
    },
    {
      "cell_type": "markdown",
      "metadata": {
        "id": "RX5YH8Wdx9bq"
      },
      "source": [
        "И **константным классификатором**"
      ]
    },
    {
      "cell_type": "code",
      "metadata": {
        "colab": {
          "base_uri": "https://localhost:8080/"
        },
        "id": "-swCEp5XyR19",
        "outputId": "6043e1c2-2d24-44d4-e9b0-c3a8327f01d7"
      },
      "source": [
        "constant_dummy = DummyClassifier(strategy=\"most_frequent\")\n",
        "y_pred = run(constant_dummy, X_train, y_train, X_test, y_test, name='Random Forest', x=15)"
      ],
      "execution_count": null,
      "outputs": [
        {
          "output_type": "stream",
          "text": [
            "====== Random Forest ======\n",
            "\n",
            "Accuracy:\t0.7785234899328859\n",
            "Pos/neg ratio:\t0.0\n",
            "\n",
            "Kappa coef:\t0.0\n",
            "Matthews coef:\t0\n",
            "ROC-AUC value:\t0.5\n",
            "PR-AUC value:\t0.610738255033557\n",
            "\n",
            "Precision:\t0.0\n",
            "Recall: \t0.0\n",
            "F-score:\tnan\n",
            "Financial loss:\t0.0\n",
            "\n",
            "===========================\n",
            "Time elapsed: 0m 0s\n"
          ],
          "name": "stdout"
        },
        {
          "output_type": "stream",
          "text": [
            "/usr/local/lib/python3.7/dist-packages/sklearn/metrics/_classification.py:1272: UndefinedMetricWarning:\n",
            "\n",
            "Precision is ill-defined and being set to 0.0 due to no predicted samples. Use `zero_division` parameter to control this behavior.\n",
            "\n",
            "/usr/local/lib/python3.7/dist-packages/ipykernel_launcher.py:20: RuntimeWarning:\n",
            "\n",
            "invalid value encountered in double_scalars\n",
            "\n"
          ],
          "name": "stderr"
        }
      ]
    },
    {
      "cell_type": "markdown",
      "metadata": {
        "id": "fdxOHu6Ir2Ay"
      },
      "source": [
        "# Стандартные методы классификации"
      ]
    },
    {
      "cell_type": "markdown",
      "metadata": {
        "id": "3h1MEChntpn5"
      },
      "source": [
        "###Логистическая регрессия "
      ]
    },
    {
      "cell_type": "code",
      "metadata": {
        "id": "v82YRBIfr6Dv"
      },
      "source": [
        "def objective(trial: Trial, X_train, y_train, X_val, y_val, financial=False, verbose=False) -> float:\n",
        "    \n",
        "    param = {\n",
        "                'C':trial.suggest_loguniform('C', 0.1, 10),\n",
        "                'solver':trial.suggest_categorical('solver', ['lbfgs', 'liblinear']),\n",
        "            }\n",
        "\n",
        "    mod = LogisticRegression(**param, random_state=179, max_iter=1000)\n",
        "    mod.fit(X_train, y_train)\n",
        "\n",
        "    if not financial:\n",
        "        auc_pr = auc(*reversed((precision_recall_curve(y_val, mod.predict_proba(X_val)[:, 1]))[:2]))\n",
        "        res = auc_pr\n",
        "    else:\n",
        "        loan = X_val[:, 0]\n",
        "        y_pred_financial = get_prediction(mod, X_val, y_val)\n",
        "        gains = get_gain(y_pred_financial, y_val, loan, x=15)\n",
        "        res = gains\n",
        "\n",
        "    if verbose:\n",
        "        print(\"Trial:\", print_vals(param), end=';\\t')\n",
        "        print('Result', res, end=';\\t')\n",
        "        print(\"Time elapsed: \" + string_time(time() - start))\n",
        "\n",
        "    return res"
      ],
      "execution_count": null,
      "outputs": []
    },
    {
      "cell_type": "code",
      "metadata": {
        "colab": {
          "base_uri": "https://localhost:8080/"
        },
        "id": "i0XPppoguyIf",
        "outputId": "b46d143b-3621-4dd0-8b12-bea8feb987ae"
      },
      "source": [
        "%%time\n",
        "study_logreg = optuna.create_study(direction='maximize', sampler=TPESampler())\n",
        "study_logreg.optimize(lambda trial : objective(trial, X_train, y_train, X_val, y_val, financial=False), n_trials=100)\n",
        "print('Best trial: score {},\\nparams {}'.format(study_logreg.best_trial.value, study_logreg.best_trial.params))"
      ],
      "execution_count": null,
      "outputs": [
        {
          "output_type": "stream",
          "text": [
            "Best trial: score 0.39333311394000703,\n",
            "params {'C': 6.508605138610588, 'solver': 'liblinear'}\n",
            "CPU times: user 7.24 s, sys: 5.29 s, total: 12.5 s\n",
            "Wall time: 6.5 s\n"
          ],
          "name": "stdout"
        }
      ]
    },
    {
      "cell_type": "code",
      "metadata": {
        "colab": {
          "base_uri": "https://localhost:8080/"
        },
        "id": "lR64dr0kwUCh",
        "outputId": "b7391a32-8c9e-4734-ed3b-902890e2e697"
      },
      "source": [
        "logreg = LogisticRegression(**study_logreg.best_trial.params, random_state=179, max_iter=1000)\n",
        "y_pred = run(logreg, X_train, y_train, X_test, y_test, name='LogReg', x=15)"
      ],
      "execution_count": null,
      "outputs": [
        {
          "output_type": "stream",
          "text": [
            "====== LogReg ======\n",
            "\n",
            "Accuracy:\t0.7762863534675615\n",
            "Pos/neg ratio:\t0.002242152466367713\n",
            "\n",
            "Kappa coef:\t-0.004449238236483719\n",
            "Matthews coef:\t-0.025255766052140846\n",
            "ROC-AUC value:\t0.6526181353767561\n",
            "PR-AUC value:\t0.38518612349864045\n",
            "\n",
            "Precision:\t0.0\n",
            "Recall: \t0.0\n",
            "F-score:\tnan\n",
            "Financial score:\t1140160.0\n",
            "\n",
            "====================\n",
            "Time elapsed: 0m 0s\n"
          ],
          "name": "stdout"
        },
        {
          "output_type": "stream",
          "text": [
            "/usr/local/lib/python3.7/dist-packages/ipykernel_launcher.py:20: RuntimeWarning:\n",
            "\n",
            "invalid value encountered in double_scalars\n",
            "\n"
          ],
          "name": "stderr"
        }
      ]
    },
    {
      "cell_type": "code",
      "metadata": {
        "colab": {
          "base_uri": "https://localhost:8080/"
        },
        "id": "BYA1GnHHy7cl",
        "outputId": "7f2ea760-7d50-4cdc-adfb-9d187cf2cb3e"
      },
      "source": [
        "%%time\n",
        "study_logreg_f = optuna.create_study(direction='minimize', sampler=TPESampler())\n",
        "study_logreg_f.optimize(lambda trial : objective(trial, X_train, y_train, X_val, y_val, financial=True), n_trials=100)\n",
        "print('Best trial: score {},\\nparams {}'.format(study_logreg_f.best_trial.value, study_logreg_f.best_trial.params))"
      ],
      "execution_count": null,
      "outputs": [
        {
          "output_type": "stream",
          "text": [
            "Best trial: score 969700.0,\n",
            "params {'C': 0.1809858406723689, 'solver': 'lbfgs'}\n",
            "CPU times: user 8.03 s, sys: 5.92 s, total: 14 s\n",
            "Wall time: 7.15 s\n"
          ],
          "name": "stdout"
        }
      ]
    },
    {
      "cell_type": "code",
      "metadata": {
        "colab": {
          "base_uri": "https://localhost:8080/"
        },
        "id": "1WeA6fk9y5Hn",
        "outputId": "a6061f4a-b465-4fcc-a863-77683518f418"
      },
      "source": [
        "logreg_f = LogisticRegression(**study_logreg_f.best_trial.params, random_state=179, max_iter=1000)\n",
        "y_pred = run(logreg_f, X_train, y_train, X_test, y_test, name='LogReg f', x=15)"
      ],
      "execution_count": null,
      "outputs": [
        {
          "output_type": "stream",
          "text": [
            "====== LogReg f ======\n",
            "\n",
            "Accuracy:\t0.7807606263982103\n",
            "Pos/neg ratio:\t0.002242152466367713\n",
            "\n",
            "Kappa coef:\t0.015639746528246255\n",
            "Matthews coef:\t0.08877784430449509\n",
            "ROC-AUC value:\t0.6342737722048066\n",
            "PR-AUC value:\t0.37568536295799004\n",
            "\n",
            "Precision:\t1.0\n",
            "Recall: \t0.010101010101010102\n",
            "F-score:\t0.02\n",
            "Financial score:\t1197575.0\n",
            "\n",
            "======================\n",
            "Time elapsed: 0m 0s\n"
          ],
          "name": "stdout"
        }
      ]
    },
    {
      "cell_type": "markdown",
      "metadata": {
        "id": "doE2Nauczfl8"
      },
      "source": [
        "### Градиентный бустинг"
      ]
    },
    {
      "cell_type": "code",
      "metadata": {
        "id": "AuKfEp7xzoUH"
      },
      "source": [
        "def objective(trial: Trial, X_train, y_train, X_val, y_val, financial=False, verbose=False) -> float:\n",
        "    \n",
        "    param = {\n",
        "        'iterations' : trial.suggest_int('iterations', 50, 300),                         \n",
        "        'depth' : trial.suggest_int('depth', 4, 10),                                       \n",
        "        #'learning_rate' : trial.suggest_loguniform('learning_rate', 0.01, 0.3),               \n",
        "        'random_strength' :trial.suggest_int('random_strength', 0, 100),                       \n",
        "        'bagging_temperature' :trial.suggest_loguniform('bagging_temperature', 0.01, 100.00),\n",
        "        'learning_rate' :trial.suggest_loguniform('learning_rate', 1e-3, 1e-1),\n",
        "        'od_type': trial.suggest_categorical('od_type', ['IncToDec', 'Iter'])\n",
        "    }\n",
        "\n",
        "    mod = CatBoostClassifier(**param, random_state=179, task_type=\"GPU\")\n",
        "    mod.fit(X_train, y_train,\n",
        "            eval_set=((X_val, y_val)),\n",
        "            early_stopping_rounds=100,\n",
        "            logging_level='Silent',\n",
        "        )\n",
        "\n",
        "    if not financial:\n",
        "        auc_pr = auc(*reversed((precision_recall_curve(y_val, mod.predict_proba(X_val)[:, 1]))[:2]))\n",
        "        res = auc_pr\n",
        "    else:\n",
        "        loan = X_val[:, 0]\n",
        "        y_pred_financial = get_prediction(mod, X_val, y_val)\n",
        "        gains = get_gain(y_pred_financial, y_val, loan, x=15)\n",
        "        res = gains\n",
        "\n",
        "    if verbose:\n",
        "        print(\"Trial:\", print_vals(param), end=';\\t')\n",
        "        print('Result', res, end=';\\t')\n",
        "        print(\"Time elapsed: \" + string_time(time() - start))\n",
        "\n",
        "    return res"
      ],
      "execution_count": null,
      "outputs": []
    },
    {
      "cell_type": "code",
      "metadata": {
        "colab": {
          "base_uri": "https://localhost:8080/"
        },
        "id": "yaQb99ZM0_dl",
        "outputId": "8ba40158-3e49-4adc-f807-c217d684c819"
      },
      "source": [
        "%%time\n",
        "start = time()\n",
        "study_boosting = optuna.create_study(direction='maximize', sampler=TPESampler())\n",
        "study_boosting.optimize(lambda trial : objective(trial, X_train, y_train, X_val, y_val, financial=False), n_trials=100)\n",
        "print('Best trial: score {},\\nparams {}'.format(study_boosting.best_trial.value, study_boosting.best_trial.params))"
      ],
      "execution_count": null,
      "outputs": [
        {
          "output_type": "stream",
          "text": [
            "Best trial: score 0.9637158655727943,\n",
            "params {'iterations': 299, 'depth': 10, 'random_strength': 54, 'bagging_temperature': 0.6703589925461897, 'learning_rate': 0.09923586835295457, 'od_type': 'Iter'}\n",
            "CPU times: user 6min 37s, sys: 4min 28s, total: 11min 6s\n",
            "Wall time: 6min 29s\n"
          ],
          "name": "stdout"
        }
      ]
    },
    {
      "cell_type": "code",
      "metadata": {
        "colab": {
          "base_uri": "https://localhost:8080/"
        },
        "id": "UjtFIvNg0_dn",
        "outputId": "33c47663-cd1a-4cc7-d54e-32f7837b2051"
      },
      "source": [
        "boosting = CatBoostClassifier(**study_boosting.best_trial.params, random_state=179, task_type=\"GPU\")\n",
        "y_pred = run(boosting, X_train, y_train, X_test, y_test, name='Boosting', x=15)"
      ],
      "execution_count": null,
      "outputs": [
        {
          "output_type": "stream",
          "text": [
            "====== Boosting ======\n",
            "\n",
            "Accuracy:\t0.9552572706935123\n",
            "Pos/neg ratio:\t0.22131147540983606\n",
            "\n",
            "Kappa coef:\t0.8612275309676818\n",
            "Matthews coef:\t0.8680242154338297\n",
            "ROC-AUC value:\t0.9977359804946012\n",
            "PR-AUC value:\t0.9923125053453448\n",
            "\n",
            "Precision:\t0.9876543209876543\n",
            "Recall: \t0.8080808080808081\n",
            "F-score:\t0.888888888888889\n",
            "Financial score:\t0.20077588936978782\n",
            "\n",
            "======================\n",
            "Time elapsed: 0m 5s\n"
          ],
          "name": "stdout"
        }
      ]
    },
    {
      "cell_type": "code",
      "metadata": {
        "colab": {
          "base_uri": "https://localhost:8080/"
        },
        "id": "2IMyx1Ha0_dn",
        "outputId": "3ae4d4a9-33e3-4475-ed06-b962718f3dac"
      },
      "source": [
        "%%time\n",
        "study_boosting_f = optuna.create_study(direction='minimize', sampler=TPESampler())\n",
        "study_boosting_f.optimize(lambda trial : objective(trial, X_train, y_train, X_val, y_val, financial=True), n_trials=100)\n",
        "print('Best trial: score {},\\nparams {}'.format(study_boosting_f.best_trial.value, study_boosting_f.best_trial.params))"
      ],
      "execution_count": null,
      "outputs": [
        {
          "output_type": "stream",
          "text": [
            "Best trial: score 147760.0,\n",
            "params {'iterations': 265, 'depth': 10, 'random_strength': 42, 'bagging_temperature': 0.08786376890560121, 'learning_rate': 0.08925807651509098, 'od_type': 'Iter'}\n",
            "CPU times: user 5min 40s, sys: 3min 48s, total: 9min 28s\n",
            "Wall time: 5min 37s\n"
          ],
          "name": "stdout"
        }
      ]
    },
    {
      "cell_type": "code",
      "metadata": {
        "colab": {
          "base_uri": "https://localhost:8080/"
        },
        "id": "dWxTz-mE0_dq",
        "outputId": "cb86e44b-4e28-453e-e9c7-2451d53996f3"
      },
      "source": [
        "boosting_f = CatBoostClassifier(**study_boosting_f.best_trial.params, random_state=179, task_type=\"GPU\")\n",
        "y_pred = run(boosting_f, X_train, y_train, X_test, y_test, name='Boosting f', x=15)"
      ],
      "execution_count": null,
      "outputs": [
        {
          "output_type": "stream",
          "text": [
            "====== Boosting f ======\n",
            "\n",
            "Accuracy:\t0.9664429530201343\n",
            "Pos/neg ratio:\t0.23140495867768596\n",
            "\n",
            "Kappa coef:\t0.8971136583344843\n",
            "Matthews coef:\t0.9018999340888332\n",
            "ROC-AUC value:\t0.9952978056426331\n",
            "PR-AUC value:\t0.988033524083279\n",
            "\n",
            "Precision:\t1.0\n",
            "Recall: \t0.8484848484848485\n",
            "F-score:\t0.9180327868852458\n",
            "Financial score:\t124175.0\n",
            "\n",
            "========================\n",
            "Time elapsed: 0m 4s\n"
          ],
          "name": "stdout"
        }
      ]
    },
    {
      "cell_type": "markdown",
      "metadata": {
        "id": "3LoKNL5x0u5d"
      },
      "source": [
        "### Случайный лес"
      ]
    },
    {
      "cell_type": "code",
      "metadata": {
        "id": "zGWBrjjT1B0V"
      },
      "source": [
        "def objective(trial: Trial, X_train, y_train, X_val, y_val, financial=False, verbose=False) -> float:\n",
        "    \n",
        "    param = {\n",
        "            'n_estimators': trial.suggest_int('n_estimators', 50, 1000),\n",
        "            'max_depth': trial.suggest_int('max_depth', 4, 50),\n",
        "            'min_samples_split': trial.suggest_int('min_samples_split', 2, 150),\n",
        "            'min_samples_leaf': trial.suggest_int('min_samples_leaf', 1, 60),\n",
        "        }\n",
        "\n",
        "    mod = RandomForestClassifier(**param, random_state=179, n_jobs=-1)\n",
        "    mod.fit(X_train, y_train)\n",
        "\n",
        "    if not financial:\n",
        "        auc_pr = auc(*reversed((precision_recall_curve(y_val, mod.predict_proba(X_val)[:, 1]))[:2]))\n",
        "        res = auc_pr\n",
        "    else:\n",
        "        loan = X_val[:, 0]\n",
        "        y_pred_financial = get_prediction(mod, X_val, y_val)\n",
        "        gains = get_gain(y_pred_financial, y_val, loan, x=15)\n",
        "        res = gains\n",
        "\n",
        "    if verbose:\n",
        "        print(\"Trial:\", print_vals(param), end=';\\t')\n",
        "        print('Result', res, end=';\\t')\n",
        "        print(\"Time elapsed: \" + string_time(time() - start))\n",
        "\n",
        "    return res"
      ],
      "execution_count": null,
      "outputs": []
    },
    {
      "cell_type": "code",
      "metadata": {
        "colab": {
          "base_uri": "https://localhost:8080/"
        },
        "id": "vvSUrXl51B0W",
        "outputId": "baeb51a6-2dd4-4f50-8257-168922396794"
      },
      "source": [
        "%%time\n",
        "start = time()\n",
        "study_forest = optuna.create_study(direction='maximize', sampler=TPESampler())\n",
        "study_forest.optimize(lambda trial : objective(trial, X_train, y_train, X_val, y_val, financial=False, verbose=False), n_trials=100)\n",
        "print('Best trial: score {},\\nparams {}'.format(study_forest.best_trial.value, study_forest.best_trial.params))"
      ],
      "execution_count": null,
      "outputs": [
        {
          "output_type": "stream",
          "text": [
            "Best trial: score 0.9552786293852972,\n",
            "params {'n_estimators': 685, 'max_depth': 50, 'min_samples_split': 2, 'min_samples_leaf': 1}\n",
            "CPU times: user 11min 24s, sys: 17.5 s, total: 11min 42s\n",
            "Wall time: 6min 41s\n"
          ],
          "name": "stdout"
        }
      ]
    },
    {
      "cell_type": "code",
      "metadata": {
        "colab": {
          "base_uri": "https://localhost:8080/"
        },
        "id": "V-c6IPyE1B0X",
        "outputId": "0f493eea-2e87-4aa8-e53a-a3597757e878"
      },
      "source": [
        "forest = RandomForestClassifier(**study_forest.best_trial.params, random_state=179, n_jobs=-1)\n",
        "y_pred = run(forest, X_train, y_train, X_test, y_test, name='Random Forest', x=15)"
      ],
      "execution_count": null,
      "outputs": [
        {
          "output_type": "stream",
          "text": [
            "====== Random Forest ======\n",
            "\n",
            "Accuracy:\t0.9485458612975392\n",
            "Pos/neg ratio:\t0.21138211382113822\n",
            "\n",
            "Kappa coef:\t0.8385394581861012\n",
            "Matthews coef:\t0.847802626716511\n",
            "ROC-AUC value:\t0.9902327876465807\n",
            "PR-AUC value:\t0.9753651249516347\n",
            "\n",
            "Precision:\t0.9871794871794872\n",
            "Recall: \t0.7777777777777778\n",
            "F-score:\t0.8700564971751413\n",
            "Financial loss:\t0.20143917801470848\n",
            "\n",
            "===========================\n",
            "Time elapsed: 0m 4s\n"
          ],
          "name": "stdout"
        }
      ]
    },
    {
      "cell_type": "code",
      "metadata": {
        "colab": {
          "base_uri": "https://localhost:8080/"
        },
        "id": "qX3ZuX1n1B0X",
        "outputId": "48d78917-d567-440a-e526-52e5ae970ad3"
      },
      "source": [
        "%%time\n",
        "study_forest_f = optuna.create_study(direction='minimize', sampler=TPESampler())\n",
        "study_forest_f.optimize(lambda trial : objective(trial, X_train, y_train, X_val, y_val, financial=True), n_trials=100)\n",
        "print('Best trial: score {},\\nparams {}'.format(study_forest_f.best_trial.value, study_forest_f.best_trial.params))"
      ],
      "execution_count": null,
      "outputs": [
        {
          "output_type": "stream",
          "text": [
            "Best trial: score 228905.0,\n",
            "params {'n_estimators': 851, 'max_depth': 22, 'min_samples_split': 5, 'min_samples_leaf': 1}\n",
            "CPU times: user 11min 6s, sys: 17.1 s, total: 11min 23s\n",
            "Wall time: 6min 33s\n"
          ],
          "name": "stdout"
        }
      ]
    },
    {
      "cell_type": "code",
      "metadata": {
        "colab": {
          "base_uri": "https://localhost:8080/"
        },
        "id": "36pQ0U2D1B0Y",
        "outputId": "a5086652-8aa4-4929-c972-9a71ba4cf74a"
      },
      "source": [
        "forest_f = RandomForestClassifier(**study_forest_f.best_trial.params, random_state=179, n_jobs=-1)\n",
        "y_pred = run(forest_f, X_train, y_train, X_test, y_test, name='Random Forest f', x=15)"
      ],
      "execution_count": null,
      "outputs": [
        {
          "output_type": "stream",
          "text": [
            "====== Random Forest f ======\n",
            "\n",
            "Accuracy:\t0.941834451901566\n",
            "Pos/neg ratio:\t0.20810810810810812\n",
            "\n",
            "Kappa coef:\t0.8167628417368272\n",
            "Matthews coef:\t0.8267607587357965\n",
            "ROC-AUC value:\t0.9879252293045396\n",
            "PR-AUC value:\t0.9690829251630393\n",
            "\n",
            "Precision:\t0.974025974025974\n",
            "Recall: \t0.7575757575757576\n",
            "F-score:\t0.8522727272727272\n",
            "Financial score:\t171045.0\n",
            "\n",
            "=============================\n",
            "Time elapsed: 0m 5s\n"
          ],
          "name": "stdout"
        }
      ]
    },
    {
      "cell_type": "markdown",
      "metadata": {
        "id": "TrICsnc3mgxB"
      },
      "source": [
        "# Аугментация данных"
      ]
    },
    {
      "cell_type": "markdown",
      "metadata": {
        "id": "RIQdaxxJEylC"
      },
      "source": [
        "Давайте попробуем лучшие из рассмотренных моделей с использованием апсемплинга минорного класса. Так как отношение размеров классов уже близкое, стоит увеличивать его только до равенства классов."
      ]
    },
    {
      "cell_type": "markdown",
      "metadata": {
        "id": "sSaWqRRfEPRA"
      },
      "source": [
        "### SMOTE"
      ]
    },
    {
      "cell_type": "code",
      "metadata": {
        "colab": {
          "base_uri": "https://localhost:8080/"
        },
        "id": "krS5dgqHjNJL",
        "outputId": "4bfd0595-bc15-46a8-f2c1-1332104d8757"
      },
      "source": [
        "X_train_aug, y_train_aug = SMOTE(sampling_strategy=1/2, random_state=179, n_jobs=-1).fit_resample(X_train, y_train)"
      ],
      "execution_count": null,
      "outputs": [
        {
          "output_type": "stream",
          "text": [
            "/usr/local/lib/python3.7/dist-packages/sklearn/utils/deprecation.py:87: FutureWarning:\n",
            "\n",
            "Function safe_indexing is deprecated; safe_indexing is deprecated in version 0.22 and will be removed in version 0.24.\n",
            "\n"
          ],
          "name": "stderr"
        }
      ]
    },
    {
      "cell_type": "code",
      "metadata": {
        "colab": {
          "base_uri": "https://localhost:8080/"
        },
        "id": "cTTYmxUxFLhA",
        "outputId": "f2fb32b8-1f9a-44b2-e144-e3675bb734dd"
      },
      "source": [
        "forest_smote = RandomForestClassifier(**study_forest.best_trial.params, random_state=179, n_jobs=-1)\n",
        "y_pred = run(forest_smote, X_train_aug, y_train_aug, X_test, y_test, name='Random Forest SMOTE', x=15)"
      ],
      "execution_count": null,
      "outputs": [
        {
          "output_type": "stream",
          "text": [
            "====== Random Forest SMOTE ======\n",
            "\n",
            "Accuracy:\t0.9619686800894854\n",
            "Pos/neg ratio:\t0.23822714681440443\n",
            "\n",
            "Kappa coef:\t0.8842797752295674\n",
            "Matthews coef:\t0.8877625625792899\n",
            "ROC-AUC value:\t0.992511320097527\n",
            "PR-AUC value:\t0.9750615327401667\n",
            "\n",
            "Precision:\t0.9767441860465116\n",
            "Recall: \t0.8484848484848485\n",
            "F-score:\t0.908108108108108\n",
            "Financial score:\t119035.0\n",
            "\n",
            "=================================\n",
            "Time elapsed: 0m 4s\n"
          ],
          "name": "stdout"
        }
      ]
    },
    {
      "cell_type": "markdown",
      "metadata": {
        "id": "wgRbaAgYFi1r"
      },
      "source": [
        "### SVMSMOTE"
      ]
    },
    {
      "cell_type": "code",
      "metadata": {
        "id": "WCOeEj01FjdO"
      },
      "source": [
        "%%capture\n",
        "X_train_aug, y_train_aug = SVMSMOTE(sampling_strategy=1/2, random_state=179, n_jobs=-1).fit_resample(X_train, y_train)"
      ],
      "execution_count": null,
      "outputs": []
    },
    {
      "cell_type": "code",
      "metadata": {
        "colab": {
          "base_uri": "https://localhost:8080/"
        },
        "id": "HIXKoiE3Fw4U",
        "outputId": "30ae9f41-e099-4d35-a914-6796da97dfdf"
      },
      "source": [
        "forest_svmsmote = RandomForestClassifier(**study_forest.best_trial.params, random_state=179, n_jobs=-1)\n",
        "y_pred = run(forest_svmsmote, X_train_aug, y_train_aug, X_test, y_test, name='Random Forest SMOTE', x=15)"
      ],
      "execution_count": null,
      "outputs": [
        {
          "output_type": "stream",
          "text": [
            "====== Random Forest SMOTE ======\n",
            "\n",
            "Accuracy:\t0.9530201342281879\n",
            "Pos/neg ratio:\t0.22465753424657534\n",
            "\n",
            "Kappa coef:\t0.8548499327364659\n",
            "Matthews coef:\t0.8608131344970825\n",
            "ROC-AUC value:\t0.989289446185998\n",
            "PR-AUC value:\t0.9730330531699295\n",
            "\n",
            "Precision:\t0.975609756097561\n",
            "Recall: \t0.8080808080808081\n",
            "F-score:\t0.8839779005524863\n",
            "Financial score:\t156465.0\n",
            "\n",
            "=================================\n",
            "Time elapsed: 0m 5s\n"
          ],
          "name": "stdout"
        }
      ]
    },
    {
      "cell_type": "markdown",
      "metadata": {
        "id": "aNgHpP7xMDB2"
      },
      "source": [
        "# Сравнение моделей"
      ]
    },
    {
      "cell_type": "code",
      "metadata": {
        "colab": {
          "base_uri": "https://localhost:8080/"
        },
        "id": "zJffBN5DMGb1",
        "outputId": "4a442630-b718-49ce-96b5-2255a04c8a90"
      },
      "source": [
        "names = list(logs.keys())\n",
        "names"
      ],
      "execution_count": null,
      "outputs": [
        {
          "output_type": "execute_result",
          "data": {
            "text/plain": [
              "['Random Forest',\n",
              " 'LogReg',\n",
              " 'LogReg f',\n",
              " 'Boosting',\n",
              " 'Boosting f',\n",
              " 'Random Forest f',\n",
              " 'Random Forest SMOTE']"
            ]
          },
          "metadata": {
            "tags": []
          },
          "execution_count": 73
        }
      ]
    },
    {
      "cell_type": "code",
      "metadata": {
        "id": "Y7ogPOWiMX3_"
      },
      "source": [
        "# [ac, auc_pr, fscore, gains, elapsed, name]\n",
        "log_data = pd.DataFrame()\n",
        "log_data['model'] = names\n",
        "log_data['accuracy'] = [logs[nm][0] for nm in names]\n",
        "log_data['auc_pr'] = [logs[nm][1] for nm in names]\n",
        "log_data['fscore'] = [logs[nm][2] for nm in names]\n",
        "log_data['gains'] = [logs[nm][3] for nm in names]\n",
        "log_data['time'] = [logs[nm][4] for nm in names]"
      ],
      "execution_count": null,
      "outputs": []
    },
    {
      "cell_type": "code",
      "metadata": {
        "id": "XRYE1wdcOoLs"
      },
      "source": [
        "def build_analysis(feat):\n",
        "    plt.figure(figsize=(16, 7))\n",
        "    splot = sns.barplot(x='model', y=feat, data=log_data)\n",
        "\n",
        "    for p in splot.patches:\n",
        "        splot.annotate(format(p.get_height(), '.3f'), \n",
        "                    (p.get_x() + p.get_width() / 2., p.get_height()), \n",
        "                    ha = 'center', va = 'center', \n",
        "                    xytext = (0, 9), \n",
        "                    textcoords = 'offset points')\n",
        "\n",
        "    plt.show()"
      ],
      "execution_count": null,
      "outputs": []
    },
    {
      "cell_type": "markdown",
      "metadata": {
        "id": "Pzz8sbSYOkhz"
      },
      "source": [
        "**Accuracy**"
      ]
    },
    {
      "cell_type": "code",
      "metadata": {
        "colab": {
          "base_uri": "https://localhost:8080/",
          "height": 442
        },
        "id": "QbkfBNm2LmsY",
        "outputId": "c5513b60-7207-46ae-eed0-66b1e8cf645b"
      },
      "source": [
        "build_analysis('accuracy')"
      ],
      "execution_count": null,
      "outputs": [
        {
          "output_type": "display_data",
          "data": {
            "image/png": "[encoded data removed]",
            "text/plain": [
              "<Figure size 1152x504 with 1 Axes>"
            ]
          },
          "metadata": {
            "tags": [],
            "needs_background": "light"
          }
        }
      ]
    },
    {
      "cell_type": "markdown",
      "metadata": {
        "id": "We9I3EsoO27X"
      },
      "source": [
        "**PR AUC**"
      ]
    },
    {
      "cell_type": "code",
      "metadata": {
        "colab": {
          "base_uri": "https://localhost:8080/",
          "height": 442
        },
        "id": "sKBQhlX4O6lN",
        "outputId": "7b823fb1-469c-40a5-ee7f-5a6ecb50286c"
      },
      "source": [
        "build_analysis('auc_pr')"
      ],
      "execution_count": null,
      "outputs": [
        {
          "output_type": "display_data",
          "data": {
            "image/png": "[encoded data removed]",
            "text/plain": [
              "<Figure size 1152x504 with 1 Axes>"
            ]
          },
          "metadata": {
            "tags": [],
            "needs_background": "light"
          }
        }
      ]
    },
    {
      "cell_type": "markdown",
      "metadata": {
        "id": "NFYv2-gJPBu-"
      },
      "source": [
        "**F-мера**"
      ]
    },
    {
      "cell_type": "code",
      "metadata": {
        "colab": {
          "base_uri": "https://localhost:8080/",
          "height": 442
        },
        "id": "2EJiPVFHPBDG",
        "outputId": "c985a2a2-b637-471f-a8ed-2266e42a8e09"
      },
      "source": [
        "build_analysis('fscore')"
      ],
      "execution_count": null,
      "outputs": [
        {
          "output_type": "display_data",
          "data": {
            "image/png": "[encoded data removed]",
            "text/plain": [
              "<Figure size 1152x504 with 1 Axes>"
            ]
          },
          "metadata": {
            "tags": [],
            "needs_background": "light"
          }
        }
      ]
    },
    {
      "cell_type": "markdown",
      "metadata": {
        "id": "0qGkgf0GPKO9"
      },
      "source": [
        "**Финансовые потери**"
      ]
    },
    {
      "cell_type": "code",
      "metadata": {
        "colab": {
          "base_uri": "https://localhost:8080/",
          "height": 453
        },
        "id": "AIQWaSb-PKaz",
        "outputId": "821bfb46-e587-440d-9480-3ca8638c97aa"
      },
      "source": [
        "build_analysis('gains')"
      ],
      "execution_count": null,
      "outputs": [
        {
          "output_type": "display_data",
          "data": {
            "image/png": "[encoded data removed]",
            "text/plain": [
              "<Figure size 1152x504 with 1 Axes>"
            ]
          },
          "metadata": {
            "tags": [],
            "needs_background": "light"
          }
        }
      ]
    },
    {
      "cell_type": "markdown",
      "metadata": {
        "id": "UFLKARtqPTt-"
      },
      "source": [
        "**Затраченное время**"
      ]
    },
    {
      "cell_type": "code",
      "metadata": {
        "colab": {
          "base_uri": "https://localhost:8080/",
          "height": 442
        },
        "id": "q5IWzuRsPWD_",
        "outputId": "be64cb46-391d-4756-f9e7-e58960765088"
      },
      "source": [
        "build_analysis('time')"
      ],
      "execution_count": null,
      "outputs": [
        {
          "output_type": "display_data",
          "data": {
            "image/png": "[encoded data removed]",
            "text/plain": [
              "<Figure size 1152x504 with 1 Axes>"
            ]
          },
          "metadata": {
            "tags": [],
            "needs_background": "light"
          }
        }
      ]
    },
    {
      "cell_type": "markdown",
      "metadata": {
        "id": "OktbTyS8bxWX"
      },
      "source": [
        "Забавно, все метрики улучшены, а денег мы теряем больше."
      ]
    },
    {
      "cell_type": "markdown",
      "metadata": {
        "id": "Wq4TNxm2myWt"
      },
      "source": [
        "Так как теперь мы активно используем вероятности, предсказанные моделью для нашей калибровки, встает вопрос, насколько эффективно выдача нашей модели оценивает реальную вероятность того, что человек вернет кредит. Построим calibration curve, чтобы оценить качество оценки вероятностей нашей моделью."
      ]
    },
    {
      "cell_type": "markdown",
      "metadata": {
        "id": "PIU5NJdORWwn"
      },
      "source": [
        "# Калибровка модели"
      ]
    },
    {
      "cell_type": "code",
      "metadata": {
        "id": "fiGZh87fkVO4"
      },
      "source": [
        "def build_calibration_curve(mod, X, y):\n",
        "    probs = mod.predict_proba(X)[:, 1]\n",
        "    vals = []\n",
        "    for prob in np.arange(0, 1, 0.05):\n",
        "        vals.append(y[(probs >= prob) & (probs < prob + 0.05)].mean())\n",
        "    plt.plot(np.arange(0, 1, 0.05) + 0.025, vals, label='Our curve')\n",
        "    plt.plot(np.arange(0, 1, 0.05) + 0.025, np.arange(0, 1, 0.05) + 0.025, label='Perfect curve')\n",
        "    return vals"
      ],
      "execution_count": null,
      "outputs": []
    },
    {
      "cell_type": "code",
      "metadata": {
        "colab": {
          "base_uri": "https://localhost:8080/",
          "height": 611
        },
        "id": "ZuBBB9bAnVDA",
        "outputId": "2449226d-c04d-47c1-e72d-680b3b0f8bb0"
      },
      "source": [
        "build_calibration_curve(mod, X_test, y_test)"
      ],
      "execution_count": null,
      "outputs": [
        {
          "output_type": "display_data",
          "data": {
            "image/png": "[encoded data removed]",
            "text/plain": [
              "<Figure size 720x720 with 1 Axes>"
            ]
          },
          "metadata": {
            "tags": [],
            "needs_background": "light"
          }
        }
      ]
    },
    {
      "cell_type": "code",
      "metadata": {
        "colab": {
          "base_uri": "https://localhost:8080/",
          "height": 611
        },
        "id": "NfrkPUbBpVS-",
        "outputId": "a87e64ab-28e4-47b2-8358-7e93e7017bd1"
      },
      "source": [
        "build_calibration_curve(mod2, X_test, y_test)\n"
      ],
      "execution_count": null,
      "outputs": [
        {
          "output_type": "display_data",
          "data": {
            "image/png": "[encoded data removed]",
            "text/plain": [
              "<Figure size 720x720 with 1 Axes>"
            ]
          },
          "metadata": {
            "tags": [],
            "needs_background": "light"
          }
        }
      ]
    },
    {
      "cell_type": "markdown",
      "metadata": {
        "id": "KkpKL46HpPiG"
      },
      "source": [
        "Как видно, обе наши модели не очень хорошо передают настоящее распределение вероятностей. Такую \"S-образную\" форму кривой можно объяснить [$^1$](https://www.cs.cornell.edu/~alexn/papers/calibration.icml05.crc.rev3.pdf) высокой вариативностью каждого из деревьев используемых в RandomForest, в результате чего получить среднее предзсказание деревьев ровно в 0 почти невозможно, так как тогда все деревья должны были бы выдать одно и то же нулевое предсказание, что маловероятно."
      ]
    },
    {
      "cell_type": "code",
      "metadata": {
        "id": "CreN-RLJol4q"
      },
      "source": [
        "from sklearn.calibration import CalibratedClassifierCV"
      ],
      "execution_count": null,
      "outputs": []
    },
    {
      "cell_type": "code",
      "metadata": {
        "id": "ZM_Bp8RdotJk"
      },
      "source": [
        "cal_sig_mod = CalibratedClassifierCV(RandomForestClassifier(n_estimators=5000)).fit(X_train, y_train)"
      ],
      "execution_count": null,
      "outputs": []
    },
    {
      "cell_type": "code",
      "metadata": {
        "colab": {
          "base_uri": "https://localhost:8080/",
          "height": 611
        },
        "id": "z0Rbfa_kwTxJ",
        "outputId": "47ee20fc-b3e7-4c8b-fae3-436b2770e7b4"
      },
      "source": [
        "plt.figure(figsize=(10, 10))\n",
        "_ = build_calibration_curve(cal_sig_mod, X_test, y_test)\n",
        "plt.xlabel('Predicted probability', fontdict={'size':15})\n",
        "plt.ylabel('Fraction of positive results for this probability', fontdict={'size':15})\n",
        "plt.legend()\n",
        "plt.show()"
      ],
      "execution_count": null,
      "outputs": [
        {
          "output_type": "display_data",
          "data": {
            "image/png": "[encoded data removed]",
            "text/plain": [
              "<Figure size 720x720 with 1 Axes>"
            ]
          },
          "metadata": {
            "tags": [],
            "needs_background": "light"
          }
        }
      ]
    },
    {
      "cell_type": "code",
      "metadata": {
        "colab": {
          "base_uri": "https://localhost:8080/"
        },
        "id": "MrP3teCVwayM",
        "outputId": "3a786cad-fe83-4cd9-da6d-5c276552c074"
      },
      "source": [
        "print_metrics(cal_sig_mod, X_test, y_test)"
      ],
      "execution_count": null,
      "outputs": [
        {
          "output_type": "stream",
          "text": [
            "Kappa value: 0.850581748911612\n",
            "Matthews Correlation Coefficient: 0.8529081456962989\n",
            "ROC-AUC value: 0.981542860229658\n",
            "PR-AUC value: 0.9526448681523616\n",
            "Precision value: 0.934984520123839\n",
            "Recall value: 0.8296703296703297\n",
            "Loss: 685050.0\n"
          ],
          "name": "stdout"
        }
      ]
    },
    {
      "cell_type": "markdown",
      "metadata": {
        "id": "QRx1VoydwxLo"
      },
      "source": [
        "Мы немного увеличили метрики качества классификации, но немного уменьшили нашу целевую метрику - выгоду"
      ]
    },
    {
      "cell_type": "code",
      "metadata": {
        "id": "tBCoMNwJwGHJ"
      },
      "source": [
        "cal_iso_mod = CalibratedClassifierCV(RandomForestClassifier(n_estimators=5000), method='isotonic').fit(X_train, y_train)"
      ],
      "execution_count": null,
      "outputs": []
    },
    {
      "cell_type": "code",
      "metadata": {
        "colab": {
          "base_uri": "https://localhost:8080/",
          "height": 611
        },
        "id": "_sMTwmZEw27t",
        "outputId": "199f63de-2fea-4cf0-cbe8-1585eeb666f7"
      },
      "source": [
        "plt.figure(figsize=(10, 10))\n",
        "_ = build_calibration_curve(cal_iso_mod, X_test, y_test)\n",
        "plt.xlabel('Predicted probability', fontdict={'size':15})\n",
        "plt.ylabel('Fraction of positive results for this probability', fontdict={'size':15})\n",
        "plt.legend()\n",
        "plt.show()"
      ],
      "execution_count": null,
      "outputs": [
        {
          "output_type": "display_data",
          "data": {
            "image/png": "[encoded data removed]",
            "text/plain": [
              "<Figure size 720x720 with 1 Axes>"
            ]
          },
          "metadata": {
            "tags": [],
            "needs_background": "light"
          }
        }
      ]
    },
    {
      "cell_type": "code",
      "metadata": {
        "colab": {
          "base_uri": "https://localhost:8080/"
        },
        "id": "3F_XxGa8w7uW",
        "outputId": "459e9722-0970-463e-bb1c-935d07b71c6f"
      },
      "source": [
        "print_metrics(cal_iso_mod, X_test, y_test)"
      ],
      "execution_count": null,
      "outputs": [
        {
          "output_type": "stream",
          "text": [
            "Kappa value: 0.8521595677278214\n",
            "Matthews Correlation Coefficient: 0.8534616519725069\n",
            "ROC-AUC value: 0.9807682661439683\n",
            "PR-AUC value: 0.9515476637678484\n",
            "Precision value: 0.9219219219219219\n",
            "Recall value: 0.8434065934065934\n",
            "Loss: 640400.0\n"
          ],
          "name": "stdout"
        }
      ]
    },
    {
      "cell_type": "markdown",
      "metadata": {
        "id": "raLfkIjOxuJV"
      },
      "source": [
        "Возможно оверсемплинг выборки вместе с калибровкой вероятностью помогут нам улучшить качество? "
      ]
    },
    {
      "cell_type": "code",
      "metadata": {
        "id": "0nCsYjsNw9pn"
      },
      "source": [
        "cal_sig_mod2 = CalibratedClassifierCV(RandomForestClassifier(n_estimators=5000)).fit(X_train_new, y_train_new)"
      ],
      "execution_count": null,
      "outputs": []
    },
    {
      "cell_type": "code",
      "metadata": {
        "colab": {
          "base_uri": "https://localhost:8080/",
          "height": 611
        },
        "id": "_GRDRlWKxdOF",
        "outputId": "5b292b29-d3cc-4d80-b33d-681c32e99259"
      },
      "source": [
        "plt.figure(figsize=(10, 10))\n",
        "_ = build_calibration_curve(cal_sig_mod2, X_test, y_test)\n",
        "plt.xlabel('Predicted probability', fontdict={'size':15})\n",
        "plt.ylabel('Fraction of positive results for this probability', fontdict={'size':15})\n",
        "plt.legend()\n",
        "plt.show()"
      ],
      "execution_count": null,
      "outputs": [
        {
          "output_type": "display_data",
          "data": {
            "image/png": "[encoded data removed]",
            "text/plain": [
              "<Figure size 720x720 with 1 Axes>"
            ]
          },
          "metadata": {
            "tags": [],
            "needs_background": "light"
          }
        }
      ]
    },
    {
      "cell_type": "code",
      "metadata": {
        "colab": {
          "base_uri": "https://localhost:8080/"
        },
        "id": "uO95pHidxrHc",
        "outputId": "f04cd268-2230-435f-89c4-a7f81f066f63"
      },
      "source": [
        "print_metrics(cal_sig_mod2, X_test, y_test)"
      ],
      "execution_count": null,
      "outputs": [
        {
          "output_type": "stream",
          "text": [
            "Kappa value: 0.8496542219378337\n",
            "Matthews Correlation Coefficient: 0.8544995777450863\n",
            "ROC-AUC value: 0.981091415606865\n",
            "PR-AUC value: 0.9497509146854949\n",
            "Precision value: 0.9607843137254902\n",
            "Recall value: 0.8076923076923077\n",
            "Loss: 690375.0\n"
          ],
          "name": "stdout"
        }
      ]
    },
    {
      "cell_type": "code",
      "metadata": {
        "id": "ZCy-kceMx1Or"
      },
      "source": [
        "cal_iso_mod2 = CalibratedClassifierCV(RandomForestClassifier(n_estimators=5000), method='isotonic').fit(X_train_new, y_train_new)"
      ],
      "execution_count": null,
      "outputs": []
    },
    {
      "cell_type": "code",
      "metadata": {
        "colab": {
          "base_uri": "https://localhost:8080/",
          "height": 611
        },
        "id": "KTnE_UyLx5_e",
        "outputId": "40d67347-1cd7-4679-a92d-45ae14637a18"
      },
      "source": [
        "plt.figure(figsize=(10, 10))\n",
        "_ = build_calibration_curve(cal_iso_mod2, X_test, y_test)\n",
        "plt.xlabel('Predicted probability', fontdict={'size':15})\n",
        "plt.ylabel('Fraction of positive results for this probability', fontdict={'size':15})\n",
        "plt.legend()\n",
        "plt.show()"
      ],
      "execution_count": null,
      "outputs": [
        {
          "output_type": "display_data",
          "data": {
            "image/png": "[encoded data removed]",
            "text/plain": [
              "<Figure size 720x720 with 1 Axes>"
            ]
          },
          "metadata": {
            "tags": [],
            "needs_background": "light"
          }
        }
      ]
    },
    {
      "cell_type": "code",
      "metadata": {
        "colab": {
          "base_uri": "https://localhost:8080/"
        },
        "id": "u55eYYK8x7dv",
        "outputId": "1ff0fcd5-61cd-438b-8b72-74e73934e4fa"
      },
      "source": [
        "print_metrics(cal_iso_mod2, X_test, y_test)"
      ],
      "execution_count": null,
      "outputs": [
        {
          "output_type": "stream",
          "text": [
            "Kappa value: 0.8536393700271765\n",
            "Matthews Correlation Coefficient: 0.8581550644962974\n",
            "ROC-AUC value: 0.9801865971107544\n",
            "PR-AUC value: 0.9470570354340664\n",
            "Precision value: 0.961038961038961\n",
            "Recall value: 0.8131868131868132\n",
            "Loss: 696390.0\n"
          ],
          "name": "stdout"
        }
      ]
    },
    {
      "cell_type": "markdown",
      "metadata": {
        "id": "6rhYbWr6zGoF"
      },
      "source": [
        "Улучшение точности предсказания вероятности существующими методами не приводит к улучшению нашей существующей модели, но возможно улучшит результат для наших следующих попыток."
      ]
    },
    {
      "cell_type": "markdown",
      "metadata": {
        "id": "Se8znsRJBO86"
      },
      "source": [
        "Попробуем усреднить предсказания с и без калибровки, это часто улучшает результат"
      ]
    },
    {
      "cell_type": "code",
      "metadata": {
        "id": "Mo1kIivXArlv"
      },
      "source": [
        "def get_prediction2(y_prob, X_test, y_test, x=15):\n",
        "    threshold = (x / 100) / (1 + x / 100)\n",
        "    y_pred = y_prob > threshold\n",
        "    return y_pred * 1.0"
      ],
      "execution_count": null,
      "outputs": []
    },
    {
      "cell_type": "code",
      "metadata": {
        "id": "v4pU1yGIyWF0"
      },
      "source": [
        "def print_metrics2(mod1, mod2, X_test, y_test):\n",
        "    y_pred1 = mod1.predict_proba(X_test)[:, 1]\n",
        "    y_pred2 = mod2.predict_proba(X_test)[:, 1]\n",
        "    y_predp = ((y_pred1 + y_pred2) / 2)\n",
        "    y_pred = np.round(y_predp)\n",
        "    print(f\"Kappa value: {kappa(y_pred, y_test)}\")\n",
        "    print(f\"Matthews Correlation Coefficient: {matthews(y_pred, y_test)}\")\n",
        "    print(f\"ROC-AUC value: {roc_auc_score(y_test, y_predp)}\")\n",
        "    print(f\"PR-AUC value: {auc(*reversed((precision_recall_curve(y_test, y_predp))[:2]))}\")\n",
        "    print(f\"Precision value: {precision_score(y_test, y_pred)}\")\n",
        "    print(f\"Recall value: {recall_score(y_test, y_pred)}\")\n",
        "    y_pred_finance = get_prediction2(y_predp, X_test, y_test)\n",
        "    print(f\"Loss: {get_gain(y_pred_finance, y_test, X_test[:, 0])}\")"
      ],
      "execution_count": null,
      "outputs": []
    },
    {
      "cell_type": "code",
      "metadata": {
        "colab": {
          "base_uri": "https://localhost:8080/"
        },
        "id": "kNiKQoiH-DQA",
        "outputId": "ac61531e-ee0b-4e48-843c-ebc5a36c8c43"
      },
      "source": [
        "print_metrics2(mod, cal_iso_mod2, X_test, y_test)"
      ],
      "execution_count": null,
      "outputs": [
        {
          "output_type": "stream",
          "text": [
            "Kappa value: 0.8389109120055673\n",
            "Matthews Correlation Coefficient: 0.8454418837139523\n",
            "ROC-AUC value: 0.9839332016298309\n",
            "PR-AUC value: 0.9569434407665567\n",
            "Precision value: 0.9663299663299664\n",
            "Recall value: 0.7884615384615384\n",
            "Loss: 610045.0\n"
          ],
          "name": "stdout"
        }
      ]
    },
    {
      "cell_type": "markdown",
      "metadata": {
        "id": "nDWjlt3CBW6v"
      },
      "source": [
        "Наблюдается небольшое улучшение"
      ]
    },
    {
      "cell_type": "code",
      "metadata": {
        "id": "B5izloX8-Gzk"
      },
      "source": [
        ""
      ],
      "execution_count": null,
      "outputs": []
    }
  ]
}